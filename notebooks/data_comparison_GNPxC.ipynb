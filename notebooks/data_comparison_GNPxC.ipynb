{
 "cells": [
  {
   "cell_type": "code",
   "execution_count": 1,
   "id": "abe15e36-aaef-4c08-9f09-883fe121bda0",
   "metadata": {},
   "outputs": [],
   "source": [
    "import pandas as pd\n",
    "import numpy as np\n",
    "#Load common functions\n",
    "# %run common.ipynb\n",
    "import ipynb.fs.full.common as common"
   ]
  },
  {
   "cell_type": "code",
   "execution_count": 2,
   "id": "9dd05373-cb6c-4208-9dc3-224d5e817dec",
   "metadata": {},
   "outputs": [],
   "source": [
    "MML_VARIABLE_ANALYZED = 'GNPXC'\n",
    "REGION = 'LAM' \n",
    "COUNTRY_COL_NAME = 'Country Name'"
   ]
  },
  {
   "cell_type": "code",
   "execution_count": 3,
   "id": "60916650-ac0d-42b0-a093-efd193e79f63",
   "metadata": {},
   "outputs": [
    {
     "data": {
      "text/html": [
       "<div>\n",
       "<style scoped>\n",
       "    .dataframe tbody tr th:only-of-type {\n",
       "        vertical-align: middle;\n",
       "    }\n",
       "\n",
       "    .dataframe tbody tr th {\n",
       "        vertical-align: top;\n",
       "    }\n",
       "\n",
       "    .dataframe thead th {\n",
       "        text-align: right;\n",
       "    }\n",
       "</style>\n",
       "<table border=\"1\" class=\"dataframe\">\n",
       "  <thead>\n",
       "    <tr style=\"text-align: right;\">\n",
       "      <th></th>\n",
       "      <th>Country Name</th>\n",
       "      <th>Country Code</th>\n",
       "      <th>Indicator Name</th>\n",
       "      <th>Indicator Code</th>\n",
       "      <th>1960</th>\n",
       "      <th>1961</th>\n",
       "      <th>1962</th>\n",
       "      <th>1963</th>\n",
       "      <th>1964</th>\n",
       "      <th>1965</th>\n",
       "      <th>...</th>\n",
       "      <th>2012</th>\n",
       "      <th>2013</th>\n",
       "      <th>2014</th>\n",
       "      <th>2015</th>\n",
       "      <th>2016</th>\n",
       "      <th>2017</th>\n",
       "      <th>2018</th>\n",
       "      <th>2019</th>\n",
       "      <th>2020</th>\n",
       "      <th>2021</th>\n",
       "    </tr>\n",
       "  </thead>\n",
       "  <tbody>\n",
       "    <tr>\n",
       "      <th>0</th>\n",
       "      <td>Aruba</td>\n",
       "      <td>ABW</td>\n",
       "      <td>PIB per cápita (US$ a precios constantes de 2010)</td>\n",
       "      <td>NY.GDP.PCAP.KD</td>\n",
       "      <td>NaN</td>\n",
       "      <td>NaN</td>\n",
       "      <td>NaN</td>\n",
       "      <td>NaN</td>\n",
       "      <td>NaN</td>\n",
       "      <td>NaN</td>\n",
       "      <td>...</td>\n",
       "      <td>26221.259548</td>\n",
       "      <td>27744.932097</td>\n",
       "      <td>27575.930293</td>\n",
       "      <td>28399.050131</td>\n",
       "      <td>28854.713299</td>\n",
       "      <td>30293.351539</td>\n",
       "      <td>30536.667193</td>\n",
       "      <td>29769.293907</td>\n",
       "      <td>23026.332866</td>\n",
       "      <td>NaN</td>\n",
       "    </tr>\n",
       "    <tr>\n",
       "      <th>1</th>\n",
       "      <td>NaN</td>\n",
       "      <td>AFE</td>\n",
       "      <td>PIB per cápita (US$ a precios constantes de 2010)</td>\n",
       "      <td>NY.GDP.PCAP.KD</td>\n",
       "      <td>1175.735285</td>\n",
       "      <td>1149.360562</td>\n",
       "      <td>1209.930451</td>\n",
       "      <td>1240.088204</td>\n",
       "      <td>1263.610109</td>\n",
       "      <td>1296.490552</td>\n",
       "      <td>...</td>\n",
       "      <td>1513.369728</td>\n",
       "      <td>1534.557675</td>\n",
       "      <td>1552.987031</td>\n",
       "      <td>1556.316469</td>\n",
       "      <td>1548.813076</td>\n",
       "      <td>1546.795571</td>\n",
       "      <td>1544.077975</td>\n",
       "      <td>1534.890147</td>\n",
       "      <td>1452.730251</td>\n",
       "      <td>1477.249266</td>\n",
       "    </tr>\n",
       "    <tr>\n",
       "      <th>2</th>\n",
       "      <td>Afganistán</td>\n",
       "      <td>AFG</td>\n",
       "      <td>PIB per cápita (US$ a precios constantes de 2010)</td>\n",
       "      <td>NY.GDP.PCAP.KD</td>\n",
       "      <td>NaN</td>\n",
       "      <td>NaN</td>\n",
       "      <td>NaN</td>\n",
       "      <td>NaN</td>\n",
       "      <td>NaN</td>\n",
       "      <td>NaN</td>\n",
       "      <td>...</td>\n",
       "      <td>557.949692</td>\n",
       "      <td>568.964544</td>\n",
       "      <td>565.179273</td>\n",
       "      <td>556.007221</td>\n",
       "      <td>552.996908</td>\n",
       "      <td>553.355052</td>\n",
       "      <td>546.743010</td>\n",
       "      <td>555.138996</td>\n",
       "      <td>529.741210</td>\n",
       "      <td>NaN</td>\n",
       "    </tr>\n",
       "    <tr>\n",
       "      <th>3</th>\n",
       "      <td>NaN</td>\n",
       "      <td>AFW</td>\n",
       "      <td>PIB per cápita (US$ a precios constantes de 2010)</td>\n",
       "      <td>NY.GDP.PCAP.KD</td>\n",
       "      <td>1087.639931</td>\n",
       "      <td>1085.112552</td>\n",
       "      <td>1102.499382</td>\n",
       "      <td>1157.520879</td>\n",
       "      <td>1193.689612</td>\n",
       "      <td>1214.984386</td>\n",
       "      <td>...</td>\n",
       "      <td>1779.266786</td>\n",
       "      <td>1837.285808</td>\n",
       "      <td>1894.182678</td>\n",
       "      <td>1894.322115</td>\n",
       "      <td>1846.332887</td>\n",
       "      <td>1839.113395</td>\n",
       "      <td>1843.554695</td>\n",
       "      <td>1852.861728</td>\n",
       "      <td>1788.647157</td>\n",
       "      <td>1810.927774</td>\n",
       "    </tr>\n",
       "    <tr>\n",
       "      <th>4</th>\n",
       "      <td>Angola</td>\n",
       "      <td>AGO</td>\n",
       "      <td>PIB per cápita (US$ a precios constantes de 2010)</td>\n",
       "      <td>NY.GDP.PCAP.KD</td>\n",
       "      <td>NaN</td>\n",
       "      <td>NaN</td>\n",
       "      <td>NaN</td>\n",
       "      <td>NaN</td>\n",
       "      <td>NaN</td>\n",
       "      <td>NaN</td>\n",
       "      <td>...</td>\n",
       "      <td>3128.324715</td>\n",
       "      <td>3168.605268</td>\n",
       "      <td>3207.178074</td>\n",
       "      <td>3127.890598</td>\n",
       "      <td>2945.968116</td>\n",
       "      <td>2845.431670</td>\n",
       "      <td>2717.474121</td>\n",
       "      <td>2612.347027</td>\n",
       "      <td>2390.478145</td>\n",
       "      <td>2331.495402</td>\n",
       "    </tr>\n",
       "  </tbody>\n",
       "</table>\n",
       "<p>5 rows × 66 columns</p>\n",
       "</div>"
      ],
      "text/plain": [
       "  Country Name Country Code  \\\n",
       "0        Aruba          ABW   \n",
       "1          NaN          AFE   \n",
       "2   Afganistán          AFG   \n",
       "3          NaN          AFW   \n",
       "4       Angola          AGO   \n",
       "\n",
       "                                      Indicator Name  Indicator Code  \\\n",
       "0  PIB per cápita (US$ a precios constantes de 2010)  NY.GDP.PCAP.KD   \n",
       "1  PIB per cápita (US$ a precios constantes de 2010)  NY.GDP.PCAP.KD   \n",
       "2  PIB per cápita (US$ a precios constantes de 2010)  NY.GDP.PCAP.KD   \n",
       "3  PIB per cápita (US$ a precios constantes de 2010)  NY.GDP.PCAP.KD   \n",
       "4  PIB per cápita (US$ a precios constantes de 2010)  NY.GDP.PCAP.KD   \n",
       "\n",
       "          1960         1961         1962         1963         1964  \\\n",
       "0          NaN          NaN          NaN          NaN          NaN   \n",
       "1  1175.735285  1149.360562  1209.930451  1240.088204  1263.610109   \n",
       "2          NaN          NaN          NaN          NaN          NaN   \n",
       "3  1087.639931  1085.112552  1102.499382  1157.520879  1193.689612   \n",
       "4          NaN          NaN          NaN          NaN          NaN   \n",
       "\n",
       "          1965  ...          2012          2013          2014          2015  \\\n",
       "0          NaN  ...  26221.259548  27744.932097  27575.930293  28399.050131   \n",
       "1  1296.490552  ...   1513.369728   1534.557675   1552.987031   1556.316469   \n",
       "2          NaN  ...    557.949692    568.964544    565.179273    556.007221   \n",
       "3  1214.984386  ...   1779.266786   1837.285808   1894.182678   1894.322115   \n",
       "4          NaN  ...   3128.324715   3168.605268   3207.178074   3127.890598   \n",
       "\n",
       "           2016          2017          2018          2019          2020  \\\n",
       "0  28854.713299  30293.351539  30536.667193  29769.293907  23026.332866   \n",
       "1   1548.813076   1546.795571   1544.077975   1534.890147   1452.730251   \n",
       "2    552.996908    553.355052    546.743010    555.138996    529.741210   \n",
       "3   1846.332887   1839.113395   1843.554695   1852.861728   1788.647157   \n",
       "4   2945.968116   2845.431670   2717.474121   2612.347027   2390.478145   \n",
       "\n",
       "          2021  \n",
       "0          NaN  \n",
       "1  1477.249266  \n",
       "2          NaN  \n",
       "3  1810.927774  \n",
       "4  2331.495402  \n",
       "\n",
       "[5 rows x 66 columns]"
      ]
     },
     "execution_count": 3,
     "metadata": {},
     "output_type": "execute_result"
    }
   ],
   "source": [
    "df = pd.read_excel(f\"data/{REGION}/GNP_per_CAPITA_USD_2010.xlsx\", sheet_name='Data')\n",
    "df[0:5]"
   ]
  },
  {
   "cell_type": "code",
   "execution_count": 4,
   "id": "600ff56c-eade-4882-8de5-044f33679d48",
   "metadata": {},
   "outputs": [],
   "source": [
    "del df['Indicator Name']\n",
    "del df['Indicator Code']\n",
    "del df['Country Code']\n",
    "\n",
    "df.columns = df.columns.astype(str)"
   ]
  },
  {
   "cell_type": "code",
   "execution_count": 5,
   "id": "69f1b00c-86dc-4e8d-814c-87f2fa5af926",
   "metadata": {},
   "outputs": [],
   "source": [
    "def fix_countries_for_region(df, region=REGION):\n",
    "    '''Matc h country column name in dataset with MML dict of country names for region.\n",
    "    Unfortunately, it's a manual job. We know which names are missing according to MML, but we don't how the truth dataset named that country (if exists at all).\n",
    "    \n",
    "    '''\n",
    "    if region == 'DEVELOPED':\n",
    "        fix_countries_for_developed(df)\n",
    "    if region == 'LAM':\n",
    "        fix_countries_for_lam(df)\n",
    "def fix_countries_for_lam(df):\n",
    "    common.replace_value_in_column(df,COUNTRY_COL_NAME, 'Panamá', 'Panama')\n",
    "    common.replace_value_in_column(df,COUNTRY_COL_NAME, 'Perú', 'Peru')\n",
    "    common.replace_value_in_column(df,COUNTRY_COL_NAME, 'México', 'Mexico')\n",
    "    common.replace_value_in_column(df,COUNTRY_COL_NAME, 'Haití', 'Haiti')\n",
    "    common.replace_value_in_column(df,COUNTRY_COL_NAME, 'República Dominicana', 'Republica Dominicana')\n",
    "def fix_countries_for_developed(df):\n",
    "    common.replace_value_in_column(df,COUNTRY_COL_NAME,'Kirguistán','Kirguistan')\n",
    "    common.replace_value_in_column(df,COUNTRY_COL_NAME,'Macedonia del Norte','Macedonia')\n",
    "    common.replace_value_in_column(df,COUNTRY_COL_NAME,'República Eslovaca','Eslovaquia')\n",
    "    common.replace_value_in_column(df,COUNTRY_COL_NAME,'Nueva Zelandia','Nueva Zelanda')\n",
    "    common.replace_value_in_column(df,COUNTRY_COL_NAME,'República de Moldova','Moldavia')\n",
    "    common.replace_value_in_column(df,COUNTRY_COL_NAME,'Kazajstán','Kazajistan')\n",
    "    common.replace_value_in_column(df,COUNTRY_COL_NAME,'Federación de Rusia','Rusia')\n",
    "    common.replace_value_in_column(df,COUNTRY_COL_NAME,'Líbano','Libano')\n",
    "    common.replace_value_in_column(df,COUNTRY_COL_NAME,'República Checa','Republica Checa')\n",
    "    common.replace_value_in_column(df,COUNTRY_COL_NAME,'Hungría','Hungria')\n",
    "    common.replace_value_in_column(df,COUNTRY_COL_NAME,'Azerbaiyán','Azerbaiyan')\n",
    "    common.replace_value_in_column(df,COUNTRY_COL_NAME,'Japón','Japon')\n",
    "    common.replace_value_in_column(df,COUNTRY_COL_NAME,'Estados Unidos','EEUU')\n",
    "    common.replace_value_in_column(df,COUNTRY_COL_NAME,'Uzbekistán','Uzbekistan')\n",
    "    common.replace_value_in_column(df,COUNTRY_COL_NAME,'Bélgica','Belgica')\n",
    "    common.replace_value_in_column(df,COUNTRY_COL_NAME,'Belarús','Bielorrusia')\n",
    "    common.replace_value_in_column(df,COUNTRY_COL_NAME,'Tayikistán','Tayikistan')\n",
    "    common.replace_value_in_column(df,COUNTRY_COL_NAME,'Turkmenistán','Turkmenistan')\n",
    "    common.replace_value_in_column(df,COUNTRY_COL_NAME,'Canadá','Canada')\n",
    "    common.replace_value_in_column(df,COUNTRY_COL_NAME,'Países Bajos','Paises Bajos')\n",
    "    "
   ]
  },
  {
   "cell_type": "code",
   "execution_count": 6,
   "id": "c6ba864b-c7bd-43fc-bd02-bc2aef1ea8d1",
   "metadata": {},
   "outputs": [
    {
     "name": "stdout",
     "output_type": "stream",
     "text": [
      "Missing countries for region LAM\n",
      "{'Republica Dominicana', 'Peru', 'Panama', 'Mexico', 'Haiti'}\n",
      "Missing countries for region after fix\n",
      "set()\n"
     ]
    }
   ],
   "source": [
    "print(f\"Missing countries for region {REGION}\")\n",
    "missing_countries = common.get_missing_countries_for_region(df, COUNTRY_COL_NAME, REGION)\n",
    "print(missing_countries)\n",
    "fix_countries_for_region(df)\n",
    "missing_countries = common.get_missing_countries_for_region(df, COUNTRY_COL_NAME, REGION)\n",
    "print(\"Missing countries for region after fix\")\n",
    "print(missing_countries)"
   ]
  },
  {
   "cell_type": "code",
   "execution_count": null,
   "id": "7dfab96a-ec00-4888-af4e-e637af9c52a9",
   "metadata": {},
   "outputs": [],
   "source": []
  },
  {
   "cell_type": "code",
   "execution_count": 7,
   "id": "7374f984-60c3-4c59-a128-9417a183fa6a",
   "metadata": {},
   "outputs": [],
   "source": [
    "df_truth = common.get_countries_for_region(df, COUNTRY_COL_NAME, REGION)\n",
    "assert len(df_truth) == len(common.regions[REGION]['countries']), 'MISSING COUNTRIES FOR REGION'"
   ]
  },
  {
   "cell_type": "code",
   "execution_count": 8,
   "id": "0ff767a7-99eb-4a22-9ed1-b9e3b8da3bf4",
   "metadata": {},
   "outputs": [
    {
     "ename": "AssertionError",
     "evalue": "MISSING VALUES. CONSIDER FILL STRATEGY",
     "output_type": "error",
     "traceback": [
      "\u001b[0;31m---------------------------------------------------------------------------\u001b[0m",
      "\u001b[0;31mAssertionError\u001b[0m                            Traceback (most recent call last)",
      "Input \u001b[0;32mIn [8]\u001b[0m, in \u001b[0;36m<cell line: 5>\u001b[0;34m()\u001b[0m\n\u001b[1;32m      2\u001b[0m columns_filter \u001b[38;5;241m=\u001b[39m np\u001b[38;5;241m.\u001b[39mappend([COUNTRY_COL_NAME],years_filtered)\n\u001b[1;32m      4\u001b[0m df_truth \u001b[38;5;241m=\u001b[39m df_truth[columns_filter]\n\u001b[0;32m----> 5\u001b[0m \u001b[38;5;28;01massert\u001b[39;00m \u001b[38;5;241m0\u001b[39m \u001b[38;5;241m==\u001b[39m df_truth\u001b[38;5;241m.\u001b[39misna()\u001b[38;5;241m.\u001b[39msum()\u001b[38;5;241m.\u001b[39msum(), \u001b[38;5;124m\"\u001b[39m\u001b[38;5;124mMISSING VALUES. CONSIDER FILL STRATEGY\u001b[39m\u001b[38;5;124m\"\u001b[39m \u001b[38;5;66;03m#If 0, then we don't have missing values.\u001b[39;00m\n\u001b[1;32m      6\u001b[0m \u001b[38;5;28;01massert\u001b[39;00m \u001b[38;5;129;01mnot\u001b[39;00m (df_truth \u001b[38;5;241m==\u001b[39m \u001b[38;5;241m0\u001b[39m)\u001b[38;5;241m.\u001b[39many()\u001b[38;5;241m.\u001b[39many(), \u001b[38;5;124m\"\u001b[39m\u001b[38;5;124mCELLS WITH 0\u001b[39m\u001b[38;5;124m\"\u001b[39m\n",
      "\u001b[0;31mAssertionError\u001b[0m: MISSING VALUES. CONSIDER FILL STRATEGY"
     ]
    }
   ],
   "source": [
    "years_filtered = np.arange(1970,2019,2)\n",
    "columns_filter = np.append([COUNTRY_COL_NAME],years_filtered)\n",
    "\n",
    "df_truth = df_truth[columns_filter]\n",
    "assert 0 == df_truth.isna().sum().sum(), \"MISSING VALUES. CONSIDER FILL STRATEGY\" #If 0, then we don't have missing values.\n",
    "assert not (df_truth == 0).any().any(), \"CELLS WITH 0\" "
   ]
  },
  {
   "cell_type": "markdown",
   "id": "c1dccd7a-6bb0-4ac8-bdb9-a580bc8e62d8",
   "metadata": {},
   "source": [
    "## MISSING VALUES PATCH\n",
    "We don't have information for **Venezuela**.\n",
    "Try to get it, and then inject it in dataset.\n",
    "In the meantime, will fill those values with "
   ]
  },
  {
   "cell_type": "code",
   "execution_count": 9,
   "id": "8abed0cc-bdf9-4219-b0af-19663f2d5699",
   "metadata": {},
   "outputs": [
    {
     "name": "stderr",
     "output_type": "stream",
     "text": [
      "/tmp/ipykernel_309/3106467673.py:5: FutureWarning: Dropping of nuisance columns in DataFrame reductions (with 'numeric_only=None') is deprecated; in a future version this will raise TypeError.  Select only valid columns before calling the reduction.\n",
      "  whole_mean = df_truth.mean().mean()\n"
     ]
    },
    {
     "data": {
      "text/html": [
       "<div>\n",
       "<style scoped>\n",
       "    .dataframe tbody tr th:only-of-type {\n",
       "        vertical-align: middle;\n",
       "    }\n",
       "\n",
       "    .dataframe tbody tr th {\n",
       "        vertical-align: top;\n",
       "    }\n",
       "\n",
       "    .dataframe thead th {\n",
       "        text-align: right;\n",
       "    }\n",
       "</style>\n",
       "<table border=\"1\" class=\"dataframe\">\n",
       "  <thead>\n",
       "    <tr style=\"text-align: right;\">\n",
       "      <th></th>\n",
       "      <th>Country Name</th>\n",
       "      <th>1970</th>\n",
       "      <th>1972</th>\n",
       "      <th>1974</th>\n",
       "      <th>1976</th>\n",
       "      <th>1978</th>\n",
       "      <th>1980</th>\n",
       "      <th>1982</th>\n",
       "      <th>1984</th>\n",
       "      <th>1986</th>\n",
       "      <th>...</th>\n",
       "      <th>2000</th>\n",
       "      <th>2002</th>\n",
       "      <th>2004</th>\n",
       "      <th>2006</th>\n",
       "      <th>2008</th>\n",
       "      <th>2010</th>\n",
       "      <th>2012</th>\n",
       "      <th>2014</th>\n",
       "      <th>2016</th>\n",
       "      <th>2018</th>\n",
       "    </tr>\n",
       "  </thead>\n",
       "  <tbody>\n",
       "    <tr>\n",
       "      <th>254</th>\n",
       "      <td>Venezuela</td>\n",
       "      <td>5342.048845</td>\n",
       "      <td>5342.048845</td>\n",
       "      <td>5342.048845</td>\n",
       "      <td>5342.048845</td>\n",
       "      <td>5342.048845</td>\n",
       "      <td>5342.048845</td>\n",
       "      <td>5342.048845</td>\n",
       "      <td>5342.048845</td>\n",
       "      <td>5342.048845</td>\n",
       "      <td>...</td>\n",
       "      <td>5342.048845</td>\n",
       "      <td>5342.048845</td>\n",
       "      <td>5342.048845</td>\n",
       "      <td>5342.048845</td>\n",
       "      <td>5342.048845</td>\n",
       "      <td>5342.048845</td>\n",
       "      <td>5342.048845</td>\n",
       "      <td>5342.048845</td>\n",
       "      <td>5342.048845</td>\n",
       "      <td>5342.048845</td>\n",
       "    </tr>\n",
       "  </tbody>\n",
       "</table>\n",
       "<p>1 rows × 26 columns</p>\n",
       "</div>"
      ],
      "text/plain": [
       "    Country Name         1970         1972         1974         1976  \\\n",
       "254    Venezuela  5342.048845  5342.048845  5342.048845  5342.048845   \n",
       "\n",
       "            1978         1980         1982         1984         1986  ...  \\\n",
       "254  5342.048845  5342.048845  5342.048845  5342.048845  5342.048845  ...   \n",
       "\n",
       "            2000         2002         2004         2006         2008  \\\n",
       "254  5342.048845  5342.048845  5342.048845  5342.048845  5342.048845   \n",
       "\n",
       "            2010         2012         2014         2016         2018  \n",
       "254  5342.048845  5342.048845  5342.048845  5342.048845  5342.048845  \n",
       "\n",
       "[1 rows x 26 columns]"
      ]
     },
     "execution_count": 9,
     "metadata": {},
     "output_type": "execute_result"
    }
   ],
   "source": [
    "# df_truth[df_truth.isna().any(axis=1)][['Country Name', '1970', '1972', '1974', '1976', '1978', '1980', '1982', '1984',\n",
    "#        '1986', '1988', '1990', '1992', '1994', '1996', '1998', '2000']]\n",
    "\n",
    "if REGION == 'LAM':\n",
    "    whole_mean = df_truth.mean().mean()\n",
    "    df_truth.loc[df_truth[COUNTRY_COL_NAME]=='Venezuela', ['1970', '1972', '1974', '1976', '1978', '1980', '1982', '1984',\n",
    "           '1986', '1988', '1990', '1992', '1994', '1996', '1998', '2000',\n",
    "           '2002', '2004', '2006', '2008', '2010', '2012', '2014', '2016',\n",
    "           '2018']] = whole_mean\n",
    "\n",
    "\n",
    "df_truth[df_truth[COUNTRY_COL_NAME]=='Venezuela']"
   ]
  },
  {
   "cell_type": "markdown",
   "id": "fdb98c64-ddd3-4480-9596-c18c4532aa0e",
   "metadata": {},
   "source": [
    "Finally, we got our truth dataframe. Now, MML"
   ]
  },
  {
   "cell_type": "code",
   "execution_count": 10,
   "id": "8bcee822-002c-4c03-8e78-08b941c5937b",
   "metadata": {},
   "outputs": [
    {
     "data": {
      "text/html": [
       "<div>\n",
       "<style scoped>\n",
       "    .dataframe tbody tr th:only-of-type {\n",
       "        vertical-align: middle;\n",
       "    }\n",
       "\n",
       "    .dataframe tbody tr th {\n",
       "        vertical-align: top;\n",
       "    }\n",
       "\n",
       "    .dataframe thead th {\n",
       "        text-align: right;\n",
       "    }\n",
       "</style>\n",
       "<table border=\"1\" class=\"dataframe\">\n",
       "  <thead>\n",
       "    <tr style=\"text-align: right;\">\n",
       "      <th></th>\n",
       "      <th>Year</th>\n",
       "      <th>GNPXC</th>\n",
       "    </tr>\n",
       "  </thead>\n",
       "  <tbody>\n",
       "    <tr>\n",
       "      <th>0</th>\n",
       "      <td>1960</td>\n",
       "      <td>2416.70</td>\n",
       "    </tr>\n",
       "    <tr>\n",
       "      <th>1</th>\n",
       "      <td>1962</td>\n",
       "      <td>2479.10</td>\n",
       "    </tr>\n",
       "    <tr>\n",
       "      <th>2</th>\n",
       "      <td>1964</td>\n",
       "      <td>2578.55</td>\n",
       "    </tr>\n",
       "  </tbody>\n",
       "</table>\n",
       "</div>"
      ],
      "text/plain": [
       "   Year    GNPXC\n",
       "0  1960  2416.70\n",
       "1  1962  2479.10\n",
       "2  1964  2578.55"
      ]
     },
     "execution_count": 10,
     "metadata": {},
     "output_type": "execute_result"
    }
   ],
   "source": [
    "df_mml = common.get_mml_data(REGION)\n",
    "df_mml = df_mml[['Year',MML_VARIABLE_ANALYZED]]\n",
    "df_mml = df_mml[df_mml.Year <= 2018]\n",
    "df_mml[MML_VARIABLE_ANALYZED] = df_mml[MML_VARIABLE_ANALYZED] * 6.5 #TODO. ACA ES DONDE NECESITAMOS LA VALIDACION DE IGAL.\n",
    "df_mml[0:3]"
   ]
  },
  {
   "cell_type": "markdown",
   "id": "5b98002d-c57a-49c4-b1dc-c3543ed3008e",
   "metadata": {},
   "source": [
    "Ok, that was easy. Back to truth df. \n",
    "We need to transpose df, and group by some condition"
   ]
  },
  {
   "cell_type": "code",
   "execution_count": 11,
   "id": "16f38d0c-97e7-49ae-8ba2-5f421d8c9a23",
   "metadata": {},
   "outputs": [],
   "source": [
    "df_T = df_truth.copy().set_index(COUNTRY_COL_NAME).T\n",
    "df_T = df_T.reset_index().rename(columns={\"index\": \"Year\"})\n",
    "df_truth = df_T.astype({'Year': 'int64'})\n",
    "df_truth['mean'] = df_truth.iloc[:, 1:len(common.regions[REGION]['countries'])+1].mean(axis=1)\n",
    "df_truth_aggs = df_truth[['Year','mean']]"
   ]
  },
  {
   "cell_type": "code",
   "execution_count": 12,
   "id": "740dca3d-091a-4858-9805-17fa322cf093",
   "metadata": {},
   "outputs": [
    {
     "data": {
      "text/html": [
       "<div>\n",
       "<style scoped>\n",
       "    .dataframe tbody tr th:only-of-type {\n",
       "        vertical-align: middle;\n",
       "    }\n",
       "\n",
       "    .dataframe tbody tr th {\n",
       "        vertical-align: top;\n",
       "    }\n",
       "\n",
       "    .dataframe thead th {\n",
       "        text-align: right;\n",
       "    }\n",
       "</style>\n",
       "<table border=\"1\" class=\"dataframe\">\n",
       "  <thead>\n",
       "    <tr style=\"text-align: right;\">\n",
       "      <th></th>\n",
       "      <th>Year</th>\n",
       "      <th>mml_value</th>\n",
       "      <th>truth_mean</th>\n",
       "    </tr>\n",
       "  </thead>\n",
       "  <tbody>\n",
       "    <tr>\n",
       "      <th>0</th>\n",
       "      <td>1970</td>\n",
       "      <td>2895.75</td>\n",
       "      <td>3699.622559</td>\n",
       "    </tr>\n",
       "    <tr>\n",
       "      <th>1</th>\n",
       "      <td>1972</td>\n",
       "      <td>2943.20</td>\n",
       "      <td>3928.488989</td>\n",
       "    </tr>\n",
       "    <tr>\n",
       "      <th>2</th>\n",
       "      <td>1974</td>\n",
       "      <td>3003.00</td>\n",
       "      <td>4119.347288</td>\n",
       "    </tr>\n",
       "  </tbody>\n",
       "</table>\n",
       "</div>"
      ],
      "text/plain": [
       "   Year  mml_value   truth_mean\n",
       "0  1970    2895.75  3699.622559\n",
       "1  1972    2943.20  3928.488989\n",
       "2  1974    3003.00  4119.347288"
      ]
     },
     "execution_count": 12,
     "metadata": {},
     "output_type": "execute_result"
    }
   ],
   "source": [
    "df_comparison = pd.merge(df_mml,df_truth_aggs,on='Year').rename(columns={MML_VARIABLE_ANALYZED: \"mml_value\", \"mean\":\"truth_mean\"})\n",
    "df_comparison[0:3]"
   ]
  },
  {
   "cell_type": "raw",
   "id": "085e9437-d3ba-432c-9f79-01100beff40f",
   "metadata": {},
   "source": [
    "Let's plot, calculate errors and that stuff"
   ]
  },
  {
   "cell_type": "code",
   "execution_count": 13,
   "id": "da74d27c-5063-41ea-8f82-9d4920f3883b",
   "metadata": {},
   "outputs": [
    {
     "data": {
      "image/png": "[encoded data removed]",
      "text/plain": [
       "<Figure size 1296x720 with 1 Axes>"
      ]
     },
     "metadata": {
      "needs_background": "light"
     },
     "output_type": "display_data"
    }
   ],
   "source": [
    "common.compare_mml_vs_truth_line_plot(df=df_comparison, x_col_name='Year', y_col_mml='mml_value', y_col_truth='truth_mean',variable_analyzed=MML_VARIABLE_ANALYZED, region=REGION)"
   ]
  },
  {
   "cell_type": "markdown",
   "id": "2cbd1cc4-8474-4e82-bd9b-9c940422d42b",
   "metadata": {},
   "source": [
    "### Error visualization"
   ]
  },
  {
   "cell_type": "code",
   "execution_count": 14,
   "id": "7d9d2556-5ab2-4f45-838c-61863c9e26fe",
   "metadata": {},
   "outputs": [
    {
     "data": {
      "image/png": "[encoded data removed]",
      "text/plain": [
       "<Figure size 1296x576 with 1 Axes>"
      ]
     },
     "metadata": {
      "needs_background": "light"
     },
     "output_type": "display_data"
    }
   ],
   "source": [
    "common.compute_porcentual_diff_between_truth_and_mml(df_comparison,'mml_value', 'truth_mean')\n",
    "common.porcentual_diff_plot(df_comparison,MML_VARIABLE_ANALYZED, REGION, years_filtered, np.arange(-100,101,10))"
   ]
  },
  {
   "cell_type": "code",
   "execution_count": 15,
   "id": "de98611d-0706-4fdf-a3c1-067c282bccfc",
   "metadata": {},
   "outputs": [],
   "source": [
    "common.save_porcentual_diff_to_excel_for_variable(df_comparison, MML_VARIABLE_ANALYZED, REGION)"
   ]
  }
 ],
 "metadata": {
  "kernelspec": {
   "display_name": "Python 3 (ipykernel)",
   "language": "python",
   "name": "python3"
  },
  "language_info": {
   "codemirror_mode": {
    "name": "ipython",
    "version": 3
   },
   "file_extension": ".py",
   "mimetype": "text/x-python",
   "name": "python",
   "nbconvert_exporter": "python",
   "pygments_lexer": "ipython3",
   "version": "3.8.10"
  }
 },
 "nbformat": 4,
 "nbformat_minor": 5
}
