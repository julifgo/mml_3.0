{
 "cells": [
  {
   "cell_type": "code",
   "execution_count": 1,
   "id": "abe15e36-aaef-4c08-9f09-883fe121bda0",
   "metadata": {},
   "outputs": [],
   "source": [
    "import pandas as pd\n",
    "import numpy as np\n",
    "#Load common functions\n",
    "# %run common.ipynb\n",
    "import ipynb.fs.full.common as common"
   ]
  },
  {
   "cell_type": "markdown",
   "id": "e7109421-ada6-4766-914a-0682303afc60",
   "metadata": {},
   "source": [
    "# #OJO!!!!!!! \n",
    "eL DATASET TIENE A CHECOSLOVAQUIA Y TAMBIEN REPUBLICA CHECA Y ESLOVAQUIA. VER CUANDO SE DIVIDEN Y PENSAR QUE HACER.\n",
    "PARA DEVELOPED -> Esos paises estan pero con todos sus valores en null, lo que da mucha mas confianza sobre la calidad de los datos. Gracias ingenieros y cientificos que vinieron antes que yo :)\n",
    "Evaluar tambien la posibilidad de tener una notebook propia de limpieza para cada set de datos que guarde en otro lado el dataset limpio y listo para ser consumido para su comparacion contra mml. Seria una notebook por dataset por region, sin mucho para automatizar o factorizar, ya que es un trabajo artesanal"
   ]
  },
  {
   "cell_type": "code",
   "execution_count": 2,
   "id": "9dd05373-cb6c-4208-9dc3-224d5e817dec",
   "metadata": {},
   "outputs": [],
   "source": [
    "MML_VARIABLE_ANALYZED = 'EXLIFE'\n",
    "REGION = 'LAM' "
   ]
  },
  {
   "cell_type": "code",
   "execution_count": 3,
   "id": "60916650-ac0d-42b0-a093-efd193e79f63",
   "metadata": {},
   "outputs": [
    {
     "data": {
      "text/html": [
       "<div>\n",
       "<style scoped>\n",
       "    .dataframe tbody tr th:only-of-type {\n",
       "        vertical-align: middle;\n",
       "    }\n",
       "\n",
       "    .dataframe tbody tr th {\n",
       "        vertical-align: top;\n",
       "    }\n",
       "\n",
       "    .dataframe thead th {\n",
       "        text-align: right;\n",
       "    }\n",
       "</style>\n",
       "<table border=\"1\" class=\"dataframe\">\n",
       "  <thead>\n",
       "    <tr style=\"text-align: right;\">\n",
       "      <th></th>\n",
       "      <th>geo.name</th>\n",
       "      <th>indicator.name</th>\n",
       "      <th>geo</th>\n",
       "      <th>indicator</th>\n",
       "      <th>1800</th>\n",
       "      <th>1801</th>\n",
       "      <th>1802</th>\n",
       "      <th>1803</th>\n",
       "      <th>1804</th>\n",
       "      <th>1805</th>\n",
       "      <th>...</th>\n",
       "      <th>2091</th>\n",
       "      <th>2092</th>\n",
       "      <th>2093</th>\n",
       "      <th>2094</th>\n",
       "      <th>2095</th>\n",
       "      <th>2096</th>\n",
       "      <th>2097</th>\n",
       "      <th>2098</th>\n",
       "      <th>2099</th>\n",
       "      <th>2100</th>\n",
       "    </tr>\n",
       "  </thead>\n",
       "  <tbody>\n",
       "    <tr>\n",
       "      <th>0</th>\n",
       "      <td>Abkhazia</td>\n",
       "      <td>Life expectancy</td>\n",
       "      <td>abkh</td>\n",
       "      <td>lex</td>\n",
       "      <td>NaN</td>\n",
       "      <td>NaN</td>\n",
       "      <td>NaN</td>\n",
       "      <td>NaN</td>\n",
       "      <td>NaN</td>\n",
       "      <td>NaN</td>\n",
       "      <td>...</td>\n",
       "      <td>NaN</td>\n",
       "      <td>NaN</td>\n",
       "      <td>NaN</td>\n",
       "      <td>NaN</td>\n",
       "      <td>NaN</td>\n",
       "      <td>NaN</td>\n",
       "      <td>NaN</td>\n",
       "      <td>NaN</td>\n",
       "      <td>NaN</td>\n",
       "      <td>NaN</td>\n",
       "    </tr>\n",
       "    <tr>\n",
       "      <th>1</th>\n",
       "      <td>Afghanistan</td>\n",
       "      <td>Life expectancy</td>\n",
       "      <td>afg</td>\n",
       "      <td>lex</td>\n",
       "      <td>28.21</td>\n",
       "      <td>28.20</td>\n",
       "      <td>28.19</td>\n",
       "      <td>28.18</td>\n",
       "      <td>28.17</td>\n",
       "      <td>28.16</td>\n",
       "      <td>...</td>\n",
       "      <td>69.95</td>\n",
       "      <td>70.07</td>\n",
       "      <td>70.19</td>\n",
       "      <td>70.31</td>\n",
       "      <td>70.44</td>\n",
       "      <td>70.57</td>\n",
       "      <td>70.70</td>\n",
       "      <td>70.83</td>\n",
       "      <td>70.96</td>\n",
       "      <td>71.09</td>\n",
       "    </tr>\n",
       "    <tr>\n",
       "      <th>2</th>\n",
       "      <td>Akrotiri and Dhekelia</td>\n",
       "      <td>Life expectancy</td>\n",
       "      <td>akr_a_dhe</td>\n",
       "      <td>lex</td>\n",
       "      <td>NaN</td>\n",
       "      <td>NaN</td>\n",
       "      <td>NaN</td>\n",
       "      <td>NaN</td>\n",
       "      <td>NaN</td>\n",
       "      <td>NaN</td>\n",
       "      <td>...</td>\n",
       "      <td>NaN</td>\n",
       "      <td>NaN</td>\n",
       "      <td>NaN</td>\n",
       "      <td>NaN</td>\n",
       "      <td>NaN</td>\n",
       "      <td>NaN</td>\n",
       "      <td>NaN</td>\n",
       "      <td>NaN</td>\n",
       "      <td>NaN</td>\n",
       "      <td>NaN</td>\n",
       "    </tr>\n",
       "    <tr>\n",
       "      <th>3</th>\n",
       "      <td>Albania</td>\n",
       "      <td>Life expectancy</td>\n",
       "      <td>alb</td>\n",
       "      <td>lex</td>\n",
       "      <td>35.40</td>\n",
       "      <td>35.40</td>\n",
       "      <td>35.40</td>\n",
       "      <td>35.40</td>\n",
       "      <td>35.40</td>\n",
       "      <td>35.40</td>\n",
       "      <td>...</td>\n",
       "      <td>88.29</td>\n",
       "      <td>88.40</td>\n",
       "      <td>88.51</td>\n",
       "      <td>88.62</td>\n",
       "      <td>88.73</td>\n",
       "      <td>88.84</td>\n",
       "      <td>88.95</td>\n",
       "      <td>89.06</td>\n",
       "      <td>89.17</td>\n",
       "      <td>89.28</td>\n",
       "    </tr>\n",
       "    <tr>\n",
       "      <th>4</th>\n",
       "      <td>Algeria</td>\n",
       "      <td>Life expectancy</td>\n",
       "      <td>dza</td>\n",
       "      <td>lex</td>\n",
       "      <td>28.82</td>\n",
       "      <td>28.82</td>\n",
       "      <td>28.82</td>\n",
       "      <td>28.82</td>\n",
       "      <td>28.82</td>\n",
       "      <td>28.82</td>\n",
       "      <td>...</td>\n",
       "      <td>89.37</td>\n",
       "      <td>89.49</td>\n",
       "      <td>89.61</td>\n",
       "      <td>89.73</td>\n",
       "      <td>89.85</td>\n",
       "      <td>89.97</td>\n",
       "      <td>90.09</td>\n",
       "      <td>90.21</td>\n",
       "      <td>90.33</td>\n",
       "      <td>90.45</td>\n",
       "    </tr>\n",
       "  </tbody>\n",
       "</table>\n",
       "<p>5 rows × 305 columns</p>\n",
       "</div>"
      ],
      "text/plain": [
       "                geo.name   indicator.name        geo indicator   1800   1801  \\\n",
       "0               Abkhazia  Life expectancy       abkh       lex    NaN    NaN   \n",
       "1            Afghanistan  Life expectancy        afg       lex  28.21  28.20   \n",
       "2  Akrotiri and Dhekelia  Life expectancy  akr_a_dhe       lex    NaN    NaN   \n",
       "3                Albania  Life expectancy        alb       lex  35.40  35.40   \n",
       "4                Algeria  Life expectancy        dza       lex  28.82  28.82   \n",
       "\n",
       "    1802   1803   1804   1805  ...   2091   2092   2093   2094   2095   2096  \\\n",
       "0    NaN    NaN    NaN    NaN  ...    NaN    NaN    NaN    NaN    NaN    NaN   \n",
       "1  28.19  28.18  28.17  28.16  ...  69.95  70.07  70.19  70.31  70.44  70.57   \n",
       "2    NaN    NaN    NaN    NaN  ...    NaN    NaN    NaN    NaN    NaN    NaN   \n",
       "3  35.40  35.40  35.40  35.40  ...  88.29  88.40  88.51  88.62  88.73  88.84   \n",
       "4  28.82  28.82  28.82  28.82  ...  89.37  89.49  89.61  89.73  89.85  89.97   \n",
       "\n",
       "    2097   2098   2099   2100  \n",
       "0    NaN    NaN    NaN    NaN  \n",
       "1  70.70  70.83  70.96  71.09  \n",
       "2    NaN    NaN    NaN    NaN  \n",
       "3  88.95  89.06  89.17  89.28  \n",
       "4  90.09  90.21  90.33  90.45  \n",
       "\n",
       "[5 rows x 305 columns]"
      ]
     },
     "execution_count": 3,
     "metadata": {},
     "output_type": "execute_result"
    }
   ],
   "source": [
    "df = pd.read_excel(f\"data/{REGION}/Life Expectancy.xlsx\", sheet_name='countries_and_territories')\n",
    "df[0:5]"
   ]
  },
  {
   "cell_type": "code",
   "execution_count": 4,
   "id": "600ff56c-eade-4882-8de5-044f33679d48",
   "metadata": {},
   "outputs": [],
   "source": [
    "del df['indicator.name']\n",
    "del df['geo']\n",
    "del df['indicator']\n",
    "df.columns = df.columns.astype(str)"
   ]
  },
  {
   "cell_type": "code",
   "execution_count": 5,
   "id": "69f1b00c-86dc-4e8d-814c-87f2fa5af926",
   "metadata": {},
   "outputs": [],
   "source": [
    "def fix_countries_for_region(df, region=REGION):\n",
    "    '''Matc h country column name in dataset with MML dict of country names for region.\n",
    "    Unfortunately, it's a manual job. We know which names are missing according to MML, but we don't how the truth dataset named that country (if exists at all).\n",
    "    \n",
    "    '''\n",
    "    if region == 'DEVELOPED':\n",
    "        fix_countries_for_developed(df)\n",
    "    if region == 'LAM':\n",
    "        fix_countries_for_lam(df)\n",
    "def fix_countries_for_lam(df):\n",
    "    common.replace_value_in_column(df,'geo.name', 'Dominican Republic', 'Republica Dominicana')\n",
    "    common.replace_value_in_column(df,'geo.name', 'Trinidad and Tobago', 'Trinidad y Tobago')\n",
    "    common.replace_value_in_column(df,'geo.name', 'Brazil', 'Brasil')\n",
    "def fix_countries_for_developed(df):\n",
    "    common.replace_value_in_column(df,'geo.name', 'Ukraine', 'Ucrania')\n",
    "    common.replace_value_in_column(df,'geo.name','Bosnia and Herzegovina','Bosnia y Herzegovina')\n",
    "    common.replace_value_in_column(df,'geo.name','Kyrgyz Republic','Kirguistan')\n",
    "    common.replace_value_in_column(df,'geo.name','Germany','Alemania')\n",
    "    common.replace_value_in_column(df,'geo.name','France','Francia')\n",
    "    common.replace_value_in_column(df,'geo.name','Macedonia, FYR','Macedonia')\n",
    "    common.replace_value_in_column(df,'geo.name','Slovenia','Eslovenia')\n",
    "    common.replace_value_in_column(df,'geo.name','Slovak Republic','Eslovaquia')\n",
    "    common.replace_value_in_column(df,'geo.name','Switzerland','Suiza')\n",
    "    common.replace_value_in_column(df,'geo.name','Denmark','Dinamarca')\n",
    "    common.replace_value_in_column(df,'geo.name','United Kingdom','Reino Unido')\n",
    "    common.replace_value_in_column(df,'geo.name','New Zealand','Nueva Zelanda')\n",
    "    common.replace_value_in_column(df,'geo.name','Spain','España')\n",
    "    common.replace_value_in_column(df,'geo.name','Poland','Polonia')\n",
    "    common.replace_value_in_column(df,'geo.name','Ireland','Irlanda')\n",
    "    common.replace_value_in_column(df,'geo.name','Romania','Rumania')\n",
    "    common.replace_value_in_column(df,'geo.name','Finland','Finlandia')\n",
    "    common.replace_value_in_column(df,'geo.name','Moldova','Moldavia')\n",
    "    common.replace_value_in_column(df,'geo.name','Sweden','Suecia')\n",
    "    common.replace_value_in_column(df,'geo.name','Kazakhstan','Kazajistan')\n",
    "    common.replace_value_in_column(df,'geo.name','Russia','Rusia')\n",
    "    common.replace_value_in_column(df,'geo.name','Latvia','Letonia')\n",
    "    common.replace_value_in_column(df,'geo.name','Norway','Noruega')\n",
    "    common.replace_value_in_column(df,'geo.name','Lebanon','Libano')\n",
    "    common.replace_value_in_column(df,'geo.name','Czech Republic','Republica Checa')\n",
    "    common.replace_value_in_column(df,'geo.name','Hungary','Hungria')\n",
    "    common.replace_value_in_column(df,'geo.name','Azerbaijan','Azerbaiyan')\n",
    "    common.replace_value_in_column(df,'geo.name','Japan','Japon')\n",
    "    common.replace_value_in_column(df,'geo.name','United States','EEUU')\n",
    "    common.replace_value_in_column(df,'geo.name','Greece','Grecia')\n",
    "    common.replace_value_in_column(df,'geo.name','Italy','Italia')\n",
    "    common.replace_value_in_column(df,'geo.name','Belgium','Belgica')\n",
    "    common.replace_value_in_column(df,'geo.name','Belarus','Bielorrusia')\n",
    "    common.replace_value_in_column(df,'geo.name','Tajikistan','Tayikistan')\n",
    "    common.replace_value_in_column(df,'geo.name','Croatia','Croacia')\n",
    "    common.replace_value_in_column(df,'geo.name','Lithuania','Lituania')\n",
    "    common.replace_value_in_column(df,'geo.name','Netherlands','Paises Bajos')\n",
    "    "
   ]
  },
  {
   "cell_type": "code",
   "execution_count": 6,
   "id": "c6ba864b-c7bd-43fc-bd02-bc2aef1ea8d1",
   "metadata": {},
   "outputs": [
    {
     "name": "stdout",
     "output_type": "stream",
     "text": [
      "Missing countries for region LAM\n",
      "{'Trinidad y Tobago', 'Republica Dominicana', 'Brasil'}\n",
      "Missing countries for region after fix\n",
      "set()\n"
     ]
    }
   ],
   "source": [
    "print(f\"Missing countries for region {REGION}\")\n",
    "missing_countries = common.get_missing_countries_for_region(df, 'geo.name', REGION)\n",
    "print(missing_countries)\n",
    "fix_countries_for_region(df)\n",
    "missing_countries = common.get_missing_countries_for_region(df, 'geo.name', REGION)\n",
    "print(\"Missing countries for region after fix\")\n",
    "print(missing_countries)"
   ]
  },
  {
   "cell_type": "code",
   "execution_count": null,
   "id": "7374f984-60c3-4c59-a128-9417a183fa6a",
   "metadata": {},
   "outputs": [],
   "source": [
    "df_truth = common.get_countries_for_region(df, 'geo.name', REGION)\n",
    "assert len(df_truth) == len(common.regions[REGION]['countries']), 'MISSING COUNTRIES FOR REGION'"
   ]
  },
  {
   "cell_type": "markdown",
   "id": "b4ff1063-2eb8-456a-921a-1baee9509563",
   "metadata": {},
   "source": [
    "According to dataset documentation, it start predicting after 2019.\n",
    "So, we only consider data until that year\n",
    "See https://www.gapminder.org/data/documentation/gd003/"
   ]
  },
  {
   "cell_type": "code",
   "execution_count": null,
   "id": "0ff767a7-99eb-4a22-9ed1-b9e3b8da3bf4",
   "metadata": {},
   "outputs": [],
   "source": [
    "years_filtered = np.arange(1970,2019,2)\n",
    "columns_filter = np.append(['geo.name'],years_filtered)\n",
    "\n",
    "df_truth = df_truth[columns_filter]\n",
    "assert 0 == df_truth.isna().sum().sum(), \"MISSING VALUES. CONSIDER FILL STRATEGY\" #If 0, then we don't have missing values.\n",
    "assert not (df_truth == 0).any().any(), \"CELLS WITH 0\" "
   ]
  },
  {
   "cell_type": "markdown",
   "id": "fdb98c64-ddd3-4480-9596-c18c4532aa0e",
   "metadata": {},
   "source": [
    "Finally, we got our truth dataframe. Now, MML"
   ]
  },
  {
   "cell_type": "code",
   "execution_count": null,
   "id": "8bcee822-002c-4c03-8e78-08b941c5937b",
   "metadata": {},
   "outputs": [],
   "source": [
    "df_mml = common.get_mml_data(REGION)\n",
    "df_mml = df_mml[['Year',MML_VARIABLE_ANALYZED]]\n",
    "df_mml = df_mml[df_mml.Year <= 2018]\n",
    "df_mml[0:3]"
   ]
  },
  {
   "cell_type": "markdown",
   "id": "5b98002d-c57a-49c4-b1dc-c3543ed3008e",
   "metadata": {},
   "source": [
    "Ok, that was easy. Back to truth df. \n",
    "We need to transpose df, and group by some condition"
   ]
  },
  {
   "cell_type": "code",
   "execution_count": null,
   "id": "16f38d0c-97e7-49ae-8ba2-5f421d8c9a23",
   "metadata": {},
   "outputs": [],
   "source": [
    "df_T = df_truth.set_index('geo.name').T\n",
    "df_T = df_T.reset_index().rename(columns={\"index\": \"Year\"})\n",
    "df_truth = df_T.astype({'Year': 'int64'})\n",
    "df_truth['mean'] = df_truth.iloc[:, 1:len(common.regions[REGION]['countries'])+1].mean(axis=1)\n",
    "df_truth_aggs = df_truth[['Year','mean']]"
   ]
  },
  {
   "cell_type": "code",
   "execution_count": null,
   "id": "740dca3d-091a-4858-9805-17fa322cf093",
   "metadata": {},
   "outputs": [],
   "source": [
    "df_comparison = pd.merge(df_mml,df_truth_aggs,on='Year').rename(columns={\"EXLIFE\": \"mml_value\", \"mean\":\"truth_mean\"})\n",
    "df_comparison[0:3]"
   ]
  },
  {
   "cell_type": "raw",
   "id": "085e9437-d3ba-432c-9f79-01100beff40f",
   "metadata": {},
   "source": [
    "Let's plot, calculate errors and that stuff"
   ]
  },
  {
   "cell_type": "code",
   "execution_count": null,
   "id": "da74d27c-5063-41ea-8f82-9d4920f3883b",
   "metadata": {},
   "outputs": [],
   "source": [
    "common.compare_mml_vs_truth_line_plot(df=df_comparison, x_col_name='Year', y_col_mml='mml_value', y_col_truth='truth_mean',variable_analyzed=MML_VARIABLE_ANALYZED, region=REGION, y_ticks=np.arange(50,91))"
   ]
  },
  {
   "cell_type": "raw",
   "id": "056e0551-563c-4ed6-b982-388f126b04d4",
   "metadata": {
    "tags": []
   },
   "source": [
    "As we see in the graph, from 1988, mml stops growing as the others continue the tendence.\n",
    "\n",
    "### 1970 - 1988\n",
    "\n",
    "So, let's take only from 1970-1988"
   ]
  },
  {
   "cell_type": "raw",
   "id": "42cb39a3-711f-40e1-8cd2-815c570a4e88",
   "metadata": {},
   "source": [
    "df_1988 = df[df['Year']<=1988]\n",
    "common.compare_mml_vs_truth_line_plot(df=df_1988, x_col_name='Year', y_col_mml='mml_value', y_col_truth='truth_mean',variable_analyzed=MML_VARIABLE_ANALYZED, region=REGION, y_ticks=np.arange(50,81))"
   ]
  },
  {
   "cell_type": "markdown",
   "id": "742e5354-8d5d-4bd1-b4d1-e94ff1af4cbb",
   "metadata": {},
   "source": [
    "Mean seems to be quite accurate in that interval"
   ]
  },
  {
   "cell_type": "markdown",
   "id": "2cbd1cc4-8474-4e82-bd9b-9c940422d42b",
   "metadata": {},
   "source": [
    "### Error visualization"
   ]
  },
  {
   "cell_type": "code",
   "execution_count": null,
   "id": "7d9d2556-5ab2-4f45-838c-61863c9e26fe",
   "metadata": {},
   "outputs": [],
   "source": [
    "common.compute_porcentual_diff_between_truth_and_mml(df_comparison,'mml_value', 'truth_mean')\n",
    "common.porcentual_diff_plot(df_comparison,MML_VARIABLE_ANALYZED, REGION, years_filtered, np.arange(-20,21,5))"
   ]
  },
  {
   "cell_type": "code",
   "execution_count": null,
   "id": "de98611d-0706-4fdf-a3c1-067c282bccfc",
   "metadata": {},
   "outputs": [],
   "source": [
    "common.save_porcentual_diff_to_excel_for_variable(df_comparison, MML_VARIABLE_ANALYZED, REGION)"
   ]
  }
 ],
 "metadata": {
  "kernelspec": {
   "display_name": "Python 3 (ipykernel)",
   "language": "python",
   "name": "python3"
  },
  "language_info": {
   "codemirror_mode": {
    "name": "ipython",
    "version": 3
   },
   "file_extension": ".py",
   "mimetype": "text/x-python",
   "name": "python",
   "nbconvert_exporter": "python",
   "pygments_lexer": "ipython3",
   "version": "3.8.10"
  }
 },
 "nbformat": 4,
 "nbformat_minor": 5
}
