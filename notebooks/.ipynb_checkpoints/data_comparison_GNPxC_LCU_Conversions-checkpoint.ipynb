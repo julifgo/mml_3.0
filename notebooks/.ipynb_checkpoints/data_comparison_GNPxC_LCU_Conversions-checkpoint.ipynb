{
 "cells": [
  {
   "cell_type": "code",
   "execution_count": 1,
   "id": "abe15e36-aaef-4c08-9f09-883fe121bda0",
   "metadata": {},
   "outputs": [],
   "source": [
    "import pandas as pd\n",
    "import numpy as np\n",
    "#Load common functions\n",
    "# %run common.ipynb\n",
    "import ipynb.fs.full.common as common"
   ]
  },
  {
   "cell_type": "markdown",
   "id": "7cdb4113-adc2-4e75-8eec-a0e323442b73",
   "metadata": {},
   "source": [
    "## NOTA IMPORTANTE:\n",
    "- MML habla de GNP (Gross National Product) == PNB (Producto Bruto Nacional)\n",
    "\n",
    "Sin embargo, no encontramos existencia de datos de GNP año a año desde 1960 hasta al menos 2000, país por país, para todos los países.\n",
    "Consultado con Igal, corroboró que no se suele trabajar con GNP.\n",
    "\n",
    "- El set de datos a comparar entonces es GDP (Gross Domestic Product) == PIB (Producto Interno Bruto)\n",
    "\n",
    "- La comparación no es directa. Sin embargo, podemos asumir que la diferencia entre GNP y GDP de cada pais es NO significativa.\n",
    "\n",
    "Más aún, si llegarámos a encontrar algun dataset de GNP de algún país en algun periodo, podriamos efectivamente compararlos. Tal vez, teniendo un candidato de país importante por región alcance (uno de LAM, uno de DEVELOPED, etc)\n",
    "\n",
    "Otro punto a tener en cuenta es la unidad de medida.\n",
    "- MML midio GNP a valor USD de 1960\n",
    "- Notas de Igal: https://es.overleaf.com/9742826469tmfsvjwrxktq\n",
    "\n",
    "Vamos a intentar reproducir el cambio de base como evidencia de la posibilidad, para un pais en particular."
   ]
  },
  {
   "cell_type": "code",
   "execution_count": 2,
   "id": "9dd05373-cb6c-4208-9dc3-224d5e817dec",
   "metadata": {},
   "outputs": [],
   "source": [
    "MML_VARIABLE_ANALYZED = 'GNPXC'\n",
    "REGION = 'LAM' \n",
    "COUNTRY_COL_NAME = 'Country Name'\n",
    "COUNTRY = \"Brasil\""
   ]
  },
  {
   "cell_type": "code",
   "execution_count": 5,
   "id": "60916650-ac0d-42b0-a093-efd193e79f63",
   "metadata": {},
   "outputs": [],
   "source": [
    "df_lcu_current = pd.read_excel(f\"data/{REGION}/pbi per capita LCU current.xlsx\", sheet_name='Data')\n",
    "df_lcu_constant = pd.read_excel(f\"data/{REGION}/pbi per capita LCU constant.xlsx\", sheet_name='Data')\n"
   ]
  },
  {
   "cell_type": "code",
   "execution_count": 7,
   "id": "b91cd4d3-dc0e-4610-803e-29440814051e",
   "metadata": {},
   "outputs": [
    {
     "data": {
      "text/html": [
       "<div>\n",
       "<style scoped>\n",
       "    .dataframe tbody tr th:only-of-type {\n",
       "        vertical-align: middle;\n",
       "    }\n",
       "\n",
       "    .dataframe tbody tr th {\n",
       "        vertical-align: top;\n",
       "    }\n",
       "\n",
       "    .dataframe thead th {\n",
       "        text-align: right;\n",
       "    }\n",
       "</style>\n",
       "<table border=\"1\" class=\"dataframe\">\n",
       "  <thead>\n",
       "    <tr style=\"text-align: right;\">\n",
       "      <th></th>\n",
       "      <th>Country Name</th>\n",
       "      <th>Country Code</th>\n",
       "      <th>Indicator Name</th>\n",
       "      <th>Indicator Code</th>\n",
       "      <th>1960</th>\n",
       "      <th>1961</th>\n",
       "      <th>1962</th>\n",
       "      <th>1963</th>\n",
       "      <th>1964</th>\n",
       "      <th>1965</th>\n",
       "      <th>...</th>\n",
       "      <th>2012</th>\n",
       "      <th>2013</th>\n",
       "      <th>2014</th>\n",
       "      <th>2015</th>\n",
       "      <th>2016</th>\n",
       "      <th>2017</th>\n",
       "      <th>2018</th>\n",
       "      <th>2019</th>\n",
       "      <th>2020</th>\n",
       "      <th>2021</th>\n",
       "    </tr>\n",
       "  </thead>\n",
       "  <tbody>\n",
       "    <tr>\n",
       "      <th>0</th>\n",
       "      <td>Aruba</td>\n",
       "      <td>ABW</td>\n",
       "      <td>GDP (constant LCU)</td>\n",
       "      <td>NY.GDP.MKTP.KN</td>\n",
       "      <td>NaN</td>\n",
       "      <td>NaN</td>\n",
       "      <td>NaN</td>\n",
       "      <td>NaN</td>\n",
       "      <td>NaN</td>\n",
       "      <td>NaN</td>\n",
       "      <td>...</td>\n",
       "      <td>4.588000e+09</td>\n",
       "      <td>4.883000e+09</td>\n",
       "      <td>4.882000e+09</td>\n",
       "      <td>5.055000e+09</td>\n",
       "      <td>5.162000e+09</td>\n",
       "      <td>5.445000e+09</td>\n",
       "      <td>5.731290e+09</td>\n",
       "      <td>5.767686e+09</td>\n",
       "      <td>4.695525e+09</td>\n",
       "      <td>5.501864e+09</td>\n",
       "    </tr>\n",
       "    <tr>\n",
       "      <th>1</th>\n",
       "      <td>Africa Eastern and Southern</td>\n",
       "      <td>AFE</td>\n",
       "      <td>GDP (constant LCU)</td>\n",
       "      <td>NY.GDP.MKTP.KN</td>\n",
       "      <td>NaN</td>\n",
       "      <td>NaN</td>\n",
       "      <td>NaN</td>\n",
       "      <td>NaN</td>\n",
       "      <td>NaN</td>\n",
       "      <td>NaN</td>\n",
       "      <td>...</td>\n",
       "      <td>NaN</td>\n",
       "      <td>NaN</td>\n",
       "      <td>NaN</td>\n",
       "      <td>NaN</td>\n",
       "      <td>NaN</td>\n",
       "      <td>NaN</td>\n",
       "      <td>NaN</td>\n",
       "      <td>NaN</td>\n",
       "      <td>NaN</td>\n",
       "      <td>NaN</td>\n",
       "    </tr>\n",
       "    <tr>\n",
       "      <th>2</th>\n",
       "      <td>Afghanistan</td>\n",
       "      <td>AFG</td>\n",
       "      <td>GDP (constant LCU)</td>\n",
       "      <td>NY.GDP.MKTP.KN</td>\n",
       "      <td>NaN</td>\n",
       "      <td>NaN</td>\n",
       "      <td>NaN</td>\n",
       "      <td>NaN</td>\n",
       "      <td>NaN</td>\n",
       "      <td>NaN</td>\n",
       "      <td>...</td>\n",
       "      <td>1.086653e+12</td>\n",
       "      <td>1.147514e+12</td>\n",
       "      <td>1.178778e+12</td>\n",
       "      <td>1.195886e+12</td>\n",
       "      <td>1.222917e+12</td>\n",
       "      <td>1.255288e+12</td>\n",
       "      <td>1.270216e+12</td>\n",
       "      <td>1.319902e+12</td>\n",
       "      <td>1.288869e+12</td>\n",
       "      <td>1.021595e+12</td>\n",
       "    </tr>\n",
       "    <tr>\n",
       "      <th>3</th>\n",
       "      <td>Africa Western and Central</td>\n",
       "      <td>AFW</td>\n",
       "      <td>GDP (constant LCU)</td>\n",
       "      <td>NY.GDP.MKTP.KN</td>\n",
       "      <td>NaN</td>\n",
       "      <td>NaN</td>\n",
       "      <td>NaN</td>\n",
       "      <td>NaN</td>\n",
       "      <td>NaN</td>\n",
       "      <td>NaN</td>\n",
       "      <td>...</td>\n",
       "      <td>NaN</td>\n",
       "      <td>NaN</td>\n",
       "      <td>NaN</td>\n",
       "      <td>NaN</td>\n",
       "      <td>NaN</td>\n",
       "      <td>NaN</td>\n",
       "      <td>NaN</td>\n",
       "      <td>NaN</td>\n",
       "      <td>NaN</td>\n",
       "      <td>NaN</td>\n",
       "    </tr>\n",
       "    <tr>\n",
       "      <th>4</th>\n",
       "      <td>Angola</td>\n",
       "      <td>AGO</td>\n",
       "      <td>GDP (constant LCU)</td>\n",
       "      <td>NY.GDP.MKTP.KN</td>\n",
       "      <td>NaN</td>\n",
       "      <td>NaN</td>\n",
       "      <td>NaN</td>\n",
       "      <td>NaN</td>\n",
       "      <td>NaN</td>\n",
       "      <td>NaN</td>\n",
       "      <td>...</td>\n",
       "      <td>1.468722e+12</td>\n",
       "      <td>1.541424e+12</td>\n",
       "      <td>1.615721e+12</td>\n",
       "      <td>1.630909e+12</td>\n",
       "      <td>1.588831e+12</td>\n",
       "      <td>1.586448e+12</td>\n",
       "      <td>1.565565e+12</td>\n",
       "      <td>1.554606e+12</td>\n",
       "      <td>1.467548e+12</td>\n",
       "      <td>1.483691e+12</td>\n",
       "    </tr>\n",
       "  </tbody>\n",
       "</table>\n",
       "<p>5 rows × 66 columns</p>\n",
       "</div>"
      ],
      "text/plain": [
       "                  Country Name Country Code      Indicator Name  \\\n",
       "0                        Aruba          ABW  GDP (constant LCU)   \n",
       "1  Africa Eastern and Southern          AFE  GDP (constant LCU)   \n",
       "2                  Afghanistan          AFG  GDP (constant LCU)   \n",
       "3   Africa Western and Central          AFW  GDP (constant LCU)   \n",
       "4                       Angola          AGO  GDP (constant LCU)   \n",
       "\n",
       "   Indicator Code  1960  1961  1962  1963  1964  1965  ...          2012  \\\n",
       "0  NY.GDP.MKTP.KN   NaN   NaN   NaN   NaN   NaN   NaN  ...  4.588000e+09   \n",
       "1  NY.GDP.MKTP.KN   NaN   NaN   NaN   NaN   NaN   NaN  ...           NaN   \n",
       "2  NY.GDP.MKTP.KN   NaN   NaN   NaN   NaN   NaN   NaN  ...  1.086653e+12   \n",
       "3  NY.GDP.MKTP.KN   NaN   NaN   NaN   NaN   NaN   NaN  ...           NaN   \n",
       "4  NY.GDP.MKTP.KN   NaN   NaN   NaN   NaN   NaN   NaN  ...  1.468722e+12   \n",
       "\n",
       "           2013          2014          2015          2016          2017  \\\n",
       "0  4.883000e+09  4.882000e+09  5.055000e+09  5.162000e+09  5.445000e+09   \n",
       "1           NaN           NaN           NaN           NaN           NaN   \n",
       "2  1.147514e+12  1.178778e+12  1.195886e+12  1.222917e+12  1.255288e+12   \n",
       "3           NaN           NaN           NaN           NaN           NaN   \n",
       "4  1.541424e+12  1.615721e+12  1.630909e+12  1.588831e+12  1.586448e+12   \n",
       "\n",
       "           2018          2019          2020          2021  \n",
       "0  5.731290e+09  5.767686e+09  4.695525e+09  5.501864e+09  \n",
       "1           NaN           NaN           NaN           NaN  \n",
       "2  1.270216e+12  1.319902e+12  1.288869e+12  1.021595e+12  \n",
       "3           NaN           NaN           NaN           NaN  \n",
       "4  1.565565e+12  1.554606e+12  1.467548e+12  1.483691e+12  \n",
       "\n",
       "[5 rows x 66 columns]"
      ]
     },
     "execution_count": 7,
     "metadata": {},
     "output_type": "execute_result"
    }
   ],
   "source": [
    "df_lcu_constant[0:5]"
   ]
  },
  {
   "cell_type": "code",
   "execution_count": 9,
   "id": "600ff56c-eade-4882-8de5-044f33679d48",
   "metadata": {},
   "outputs": [
    {
     "ename": "KeyError",
     "evalue": "'Country Code'",
     "output_type": "error",
     "traceback": [
      "\u001b[0;31m---------------------------------------------------------------------------\u001b[0m",
      "\u001b[0;31mKeyError\u001b[0m                                  Traceback (most recent call last)",
      "File \u001b[0;32m~/.local/lib/python3.8/site-packages/pandas/core/indexes/base.py:3621\u001b[0m, in \u001b[0;36mIndex.get_loc\u001b[0;34m(self, key, method, tolerance)\u001b[0m\n\u001b[1;32m   3620\u001b[0m \u001b[38;5;28;01mtry\u001b[39;00m:\n\u001b[0;32m-> 3621\u001b[0m     \u001b[38;5;28;01mreturn\u001b[39;00m \u001b[38;5;28;43mself\u001b[39;49m\u001b[38;5;241;43m.\u001b[39;49m\u001b[43m_engine\u001b[49m\u001b[38;5;241;43m.\u001b[39;49m\u001b[43mget_loc\u001b[49m\u001b[43m(\u001b[49m\u001b[43mcasted_key\u001b[49m\u001b[43m)\u001b[49m\n\u001b[1;32m   3622\u001b[0m \u001b[38;5;28;01mexcept\u001b[39;00m \u001b[38;5;167;01mKeyError\u001b[39;00m \u001b[38;5;28;01mas\u001b[39;00m err:\n",
      "File \u001b[0;32m~/.local/lib/python3.8/site-packages/pandas/_libs/index.pyx:136\u001b[0m, in \u001b[0;36mpandas._libs.index.IndexEngine.get_loc\u001b[0;34m()\u001b[0m\n",
      "File \u001b[0;32m~/.local/lib/python3.8/site-packages/pandas/_libs/index.pyx:163\u001b[0m, in \u001b[0;36mpandas._libs.index.IndexEngine.get_loc\u001b[0;34m()\u001b[0m\n",
      "File \u001b[0;32mpandas/_libs/hashtable_class_helper.pxi:5198\u001b[0m, in \u001b[0;36mpandas._libs.hashtable.PyObjectHashTable.get_item\u001b[0;34m()\u001b[0m\n",
      "File \u001b[0;32mpandas/_libs/hashtable_class_helper.pxi:5206\u001b[0m, in \u001b[0;36mpandas._libs.hashtable.PyObjectHashTable.get_item\u001b[0;34m()\u001b[0m\n",
      "\u001b[0;31mKeyError\u001b[0m: 'Country Code'",
      "\nThe above exception was the direct cause of the following exception:\n",
      "\u001b[0;31mKeyError\u001b[0m                                  Traceback (most recent call last)",
      "Input \u001b[0;32mIn [9]\u001b[0m, in \u001b[0;36m<cell line: 1>\u001b[0;34m()\u001b[0m\n\u001b[0;32m----> 1\u001b[0m \u001b[38;5;28;01mdel\u001b[39;00m df_lcu_constant[\u001b[38;5;124m'\u001b[39m\u001b[38;5;124mCountry Code\u001b[39m\u001b[38;5;124m'\u001b[39m]\n\u001b[1;32m      2\u001b[0m \u001b[38;5;28;01mdel\u001b[39;00m df_lcu_constant[\u001b[38;5;124m'\u001b[39m\u001b[38;5;124mIndicator Name\u001b[39m\u001b[38;5;124m'\u001b[39m]\n\u001b[1;32m      3\u001b[0m \u001b[38;5;28;01mdel\u001b[39;00m df_lcu_constant[\u001b[38;5;124m'\u001b[39m\u001b[38;5;124mIndicator Code\u001b[39m\u001b[38;5;124m'\u001b[39m]\n",
      "File \u001b[0;32m~/.local/lib/python3.8/site-packages/pandas/core/generic.py:4048\u001b[0m, in \u001b[0;36mNDFrame.__delitem__\u001b[0;34m(self, key)\u001b[0m\n\u001b[1;32m   4043\u001b[0m             deleted \u001b[38;5;241m=\u001b[39m \u001b[38;5;28;01mTrue\u001b[39;00m\n\u001b[1;32m   4044\u001b[0m \u001b[38;5;28;01mif\u001b[39;00m \u001b[38;5;129;01mnot\u001b[39;00m deleted:\n\u001b[1;32m   4045\u001b[0m     \u001b[38;5;66;03m# If the above loop ran and didn't delete anything because\u001b[39;00m\n\u001b[1;32m   4046\u001b[0m     \u001b[38;5;66;03m# there was no match, this call should raise the appropriate\u001b[39;00m\n\u001b[1;32m   4047\u001b[0m     \u001b[38;5;66;03m# exception:\u001b[39;00m\n\u001b[0;32m-> 4048\u001b[0m     loc \u001b[38;5;241m=\u001b[39m \u001b[38;5;28;43mself\u001b[39;49m\u001b[38;5;241;43m.\u001b[39;49m\u001b[43maxes\u001b[49m\u001b[43m[\u001b[49m\u001b[38;5;241;43m-\u001b[39;49m\u001b[38;5;241;43m1\u001b[39;49m\u001b[43m]\u001b[49m\u001b[38;5;241;43m.\u001b[39;49m\u001b[43mget_loc\u001b[49m\u001b[43m(\u001b[49m\u001b[43mkey\u001b[49m\u001b[43m)\u001b[49m\n\u001b[1;32m   4049\u001b[0m     \u001b[38;5;28mself\u001b[39m\u001b[38;5;241m.\u001b[39m_mgr \u001b[38;5;241m=\u001b[39m \u001b[38;5;28mself\u001b[39m\u001b[38;5;241m.\u001b[39m_mgr\u001b[38;5;241m.\u001b[39midelete(loc)\n\u001b[1;32m   4051\u001b[0m \u001b[38;5;66;03m# delete from the caches\u001b[39;00m\n",
      "File \u001b[0;32m~/.local/lib/python3.8/site-packages/pandas/core/indexes/base.py:3623\u001b[0m, in \u001b[0;36mIndex.get_loc\u001b[0;34m(self, key, method, tolerance)\u001b[0m\n\u001b[1;32m   3621\u001b[0m     \u001b[38;5;28;01mreturn\u001b[39;00m \u001b[38;5;28mself\u001b[39m\u001b[38;5;241m.\u001b[39m_engine\u001b[38;5;241m.\u001b[39mget_loc(casted_key)\n\u001b[1;32m   3622\u001b[0m \u001b[38;5;28;01mexcept\u001b[39;00m \u001b[38;5;167;01mKeyError\u001b[39;00m \u001b[38;5;28;01mas\u001b[39;00m err:\n\u001b[0;32m-> 3623\u001b[0m     \u001b[38;5;28;01mraise\u001b[39;00m \u001b[38;5;167;01mKeyError\u001b[39;00m(key) \u001b[38;5;28;01mfrom\u001b[39;00m \u001b[38;5;21;01merr\u001b[39;00m\n\u001b[1;32m   3624\u001b[0m \u001b[38;5;28;01mexcept\u001b[39;00m \u001b[38;5;167;01mTypeError\u001b[39;00m:\n\u001b[1;32m   3625\u001b[0m     \u001b[38;5;66;03m# If we have a listlike key, _check_indexing_error will raise\u001b[39;00m\n\u001b[1;32m   3626\u001b[0m     \u001b[38;5;66;03m#  InvalidIndexError. Otherwise we fall through and re-raise\u001b[39;00m\n\u001b[1;32m   3627\u001b[0m     \u001b[38;5;66;03m#  the TypeError.\u001b[39;00m\n\u001b[1;32m   3628\u001b[0m     \u001b[38;5;28mself\u001b[39m\u001b[38;5;241m.\u001b[39m_check_indexing_error(key)\n",
      "\u001b[0;31mKeyError\u001b[0m: 'Country Code'"
     ]
    }
   ],
   "source": [
    "del df_lcu_constant['Country Code']\n",
    "del df_lcu_constant['Indicator Name']\n",
    "del df_lcu_constant['Indicator Code']\n",
    "for year in range(1960,1970,1):\n",
    "    del df_lcu_constant[str(year)]\n",
    "\n"
   ]
  },
  {
   "cell_type": "code",
   "execution_count": null,
   "id": "d25f7c2f-5baa-4917-b538-8e5509c9bf8a",
   "metadata": {},
   "outputs": [],
   "source": []
  },
  {
   "cell_type": "code",
   "execution_count": null,
   "id": "f9d34f92-99d4-433a-bc6e-4e4fb097d285",
   "metadata": {},
   "outputs": [],
   "source": [
    "def fix_countries_for_region(df, region=REGION):\n",
    "    '''Match country column name in dataset with MML dict of country names for region.\n",
    "    Unfortunately, it's a manual job. We know which names are missing according to MML, but we don't how the truth dataset named that country (if exists at all).\n",
    "    \n",
    "    '''\n",
    "    if region == 'DEVELOPED':\n",
    "        fix_countries_for_developed(df)\n",
    "    if region == 'LAM':\n",
    "        fix_countries_for_lam(df)\n",
    "def fix_countries_for_lam(df):\n",
    "    common.replace_value_in_column(df,COUNTRY_COL_NAME, 'Brazil', 'Brasil')\n",
    "    common.replace_value_in_column(df,COUNTRY_COL_NAME, 'Trinidad and Tobago', 'Trinidad y Tobago')\n",
    "    common.replace_value_in_column(df,COUNTRY_COL_NAME, 'Dominican Republic', 'Republica Dominicana')\n",
    "def fix_countries_for_developed(df):\n",
    "    common.replace_value_in_column(df,COUNTRY_COL_NAME, 'Ukraine', 'Ucrania')\n",
    "    common.replace_value_in_column(df,COUNTRY_COL_NAME,'Bosnia and Herzegovina','Bosnia y Herzegovina')\n",
    "    common.replace_value_in_column(df,COUNTRY_COL_NAME,'Kyrgyz Republic','Kirguistan')\n",
    "    common.replace_value_in_column(df,COUNTRY_COL_NAME,'Germany','Alemania')\n",
    "    common.replace_value_in_column(df,COUNTRY_COL_NAME,'France','Francia')\n",
    "    common.replace_value_in_column(df,COUNTRY_COL_NAME,'Macedonia, FYR','Macedonia')\n",
    "    common.replace_value_in_column(df,COUNTRY_COL_NAME,'Slovenia','Eslovenia')\n",
    "    common.replace_value_in_column(df,COUNTRY_COL_NAME,'Slovak Republic','Eslovaquia')\n",
    "    common.replace_value_in_column(df,COUNTRY_COL_NAME,'Switzerland','Suiza')\n",
    "    common.replace_value_in_column(df,COUNTRY_COL_NAME,'Denmark','Dinamarca')\n",
    "    common.replace_value_in_column(df,COUNTRY_COL_NAME,'United Kingdom','Reino Unido')\n",
    "    common.replace_value_in_column(df,COUNTRY_COL_NAME,'New Zealand','Nueva Zelanda')\n",
    "    common.replace_value_in_column(df,COUNTRY_COL_NAME,'Spain','España')\n",
    "    common.replace_value_in_column(df,COUNTRY_COL_NAME,'Poland','Polonia')\n",
    "    common.replace_value_in_column(df,COUNTRY_COL_NAME,'Ireland','Irlanda')\n",
    "    common.replace_value_in_column(df,COUNTRY_COL_NAME,'Romania','Rumania')\n",
    "    common.replace_value_in_column(df,COUNTRY_COL_NAME,'Finland','Finlandia')\n",
    "    common.replace_value_in_column(df,COUNTRY_COL_NAME,'Moldova','Moldavia')\n",
    "    common.replace_value_in_column(df,COUNTRY_COL_NAME,'Sweden','Suecia')\n",
    "    common.replace_value_in_column(df,COUNTRY_COL_NAME,'Kazakhstan','Kazajistan')\n",
    "    common.replace_value_in_column(df,COUNTRY_COL_NAME,'Russia','Rusia')\n",
    "    common.replace_value_in_column(df,COUNTRY_COL_NAME,'Latvia','Letonia')\n",
    "    common.replace_value_in_column(df,COUNTRY_COL_NAME,'Norway','Noruega')\n",
    "    common.replace_value_in_column(df,COUNTRY_COL_NAME,'Lebanon','Libano')\n",
    "    common.replace_value_in_column(df,COUNTRY_COL_NAME,'Czech Republic','Republica Checa')\n",
    "    common.replace_value_in_column(df,COUNTRY_COL_NAME,'Hungary','Hungria')\n",
    "    common.replace_value_in_column(df,COUNTRY_COL_NAME,'Azerbaijan','Azerbaiyan')\n",
    "    common.replace_value_in_column(df,COUNTRY_COL_NAME,'Japan','Japon')\n",
    "    common.replace_value_in_column(df,COUNTRY_COL_NAME,'United States','EEUU')\n",
    "    common.replace_value_in_column(df,COUNTRY_COL_NAME,'Greece','Grecia')\n",
    "    common.replace_value_in_column(df,COUNTRY_COL_NAME,'Italy','Italia')\n",
    "    common.replace_value_in_column(df,COUNTRY_COL_NAME,'Belgium','Belgica')\n",
    "    common.replace_value_in_column(df,COUNTRY_COL_NAME,'Belarus','Bielorrusia')\n",
    "    common.replace_value_in_column(df,COUNTRY_COL_NAME,'Tajikistan','Tayikistan')\n",
    "    common.replace_value_in_column(df,COUNTRY_COL_NAME,'Croatia','Croacia')\n",
    "    common.replace_value_in_column(df,COUNTRY_COL_NAME,'Lithuania','Lituania')\n",
    "    common.replace_value_in_column(df,COUNTRY_COL_NAME,'Netherlands','Paises Bajos')\n",
    "  \n",
    "    "
   ]
  },
  {
   "cell_type": "code",
   "execution_count": null,
   "id": "c6ba864b-c7bd-43fc-bd02-bc2aef1ea8d1",
   "metadata": {},
   "outputs": [],
   "source": [
    "print(f\"Missing countries for region {REGION}\")\n",
    "missing_countries = common.get_missing_countries_for_region(df, COUNTRY_COL_NAME, REGION)\n",
    "print(missing_countries)\n",
    "fix_countries_for_region(df)\n",
    "missing_countries = common.get_missing_countries_for_region(df, COUNTRY_COL_NAME, REGION)\n",
    "print(\"Missing countries for region after fix\")\n",
    "print(missing_countries)"
   ]
  },
  {
   "cell_type": "code",
   "execution_count": null,
   "id": "7dfab96a-ec00-4888-af4e-e637af9c52a9",
   "metadata": {},
   "outputs": [],
   "source": []
  },
  {
   "cell_type": "code",
   "execution_count": null,
   "id": "7374f984-60c3-4c59-a128-9417a183fa6a",
   "metadata": {},
   "outputs": [],
   "source": [
    "df_truth = common.get_countries_for_region(df, COUNTRY_COL_NAME, REGION)\n",
    "# assert len(df_truth) == len(common.regions[REGION]['countries']), 'MISSING COUNTRIES FOR REGION'"
   ]
  },
  {
   "cell_type": "code",
   "execution_count": null,
   "id": "0ff767a7-99eb-4a22-9ed1-b9e3b8da3bf4",
   "metadata": {},
   "outputs": [],
   "source": [
    "years_filtered = np.arange(1970,2001,1)\n",
    "columns_filter = np.append([COUNTRY_COL_NAME],years_filtered)\n",
    "\n",
    "df_truth = df_truth[columns_filter]\n",
    "assert 0 == df_truth.isna().sum().sum(), \"MISSING VALUES. CONSIDER FILL STRATEGY\" #If 0, then we don't have missing values.\n",
    "assert not (df_truth == 0).any().any(), \"CELLS WITH 0\" "
   ]
  },
  {
   "cell_type": "markdown",
   "id": "c1dccd7a-6bb0-4ac8-bdb9-a580bc8e62d8",
   "metadata": {},
   "source": [
    "### MISSING VALUES PATCH (DISMISSED. Remove)\n",
    "We don't have information for **Venezuela**.\n",
    "Try to get it, and then inject it in dataset.\n",
    "In the meantime, will fill those values with "
   ]
  },
  {
   "cell_type": "raw",
   "id": "26c8d93a-f97b-4089-9320-d1218d1a0990",
   "metadata": {},
   "source": [
    "# df_truth[df_truth.isna().any(axis=1)][['Country Name', '1970', '1972', '1974', '1976', '1978', '1980', '1982', '1984',\n",
    "#        '1986', '1988', '1990', '1992', '1994', '1996', '1998', '2000']]\n",
    "\n",
    "if REGION == 'LAM':\n",
    "    whole_mean = df_truth.mean().mean()\n",
    "    df_truth.loc[df_truth[COUNTRY_COL_NAME]=='Venezuela', ['1970', '1972', '1974', '1976', '1978', '1980', '1982', '1984',\n",
    "           '1986', '1988', '1990', '1992', '1994', '1996', '1998', '2000',\n",
    "           '2002', '2004', '2006', '2008', '2010', '2012', '2014', '2016',\n",
    "           '2018']] = whole_mean\n",
    "\n",
    "\n",
    "df_truth[df_truth[COUNTRY_COL_NAME]=='Venezuela']"
   ]
  },
  {
   "cell_type": "markdown",
   "id": "fdb98c64-ddd3-4480-9596-c18c4532aa0e",
   "metadata": {},
   "source": [
    "Finally, we got our truth dataframe. Now, MML"
   ]
  },
  {
   "cell_type": "code",
   "execution_count": null,
   "id": "8bcee822-002c-4c03-8e78-08b941c5937b",
   "metadata": {},
   "outputs": [],
   "source": [
    "df_mml = common.get_mml_data(REGION)\n",
    "df_mml = df_mml[['Year',MML_VARIABLE_ANALYZED]]\n",
    "df_mml = df_mml[df_mml.Year >= 1970]\n",
    "df_mml = df_mml[df_mml.Year <= 2000]\n",
    "df_mml[MML_VARIABLE_ANALYZED] = df_mml[MML_VARIABLE_ANALYZED] * CONVERSION_COEFICIENT\n",
    "df_mml[0:3]"
   ]
  },
  {
   "cell_type": "code",
   "execution_count": null,
   "id": "5e2059b0-4c3b-4c17-a537-89f80bdc4c2a",
   "metadata": {},
   "outputs": [],
   "source": [
    "df_truth[0:3]"
   ]
  },
  {
   "cell_type": "markdown",
   "id": "5b98002d-c57a-49c4-b1dc-c3543ed3008e",
   "metadata": {},
   "source": [
    "\n",
    "We need to transpose df, and group by some condition"
   ]
  },
  {
   "cell_type": "code",
   "execution_count": null,
   "id": "16f38d0c-97e7-49ae-8ba2-5f421d8c9a23",
   "metadata": {},
   "outputs": [],
   "source": [
    "df_T = df_truth.copy().set_index(COUNTRY_COL_NAME).T\n",
    "df_T = df_T.reset_index().rename(columns={\"index\": \"Year\"})\n",
    "df_truth = df_T.astype({'Year': 'int64'})\n",
    "df_truth['mean'] = df_truth.iloc[:, 1:len(common.regions[REGION]['countries'])+1].mean(axis=1)\n",
    "df_truth_aggs = df_truth[['Year','mean']]"
   ]
  },
  {
   "cell_type": "code",
   "execution_count": null,
   "id": "740dca3d-091a-4858-9805-17fa322cf093",
   "metadata": {},
   "outputs": [],
   "source": [
    "df_comparison = pd.merge(df_mml,df_truth_aggs,on='Year').rename(columns={MML_VARIABLE_ANALYZED: \"mml_value\", \"mean\":\"truth_mean\"})\n",
    "df_comparison[0:15]"
   ]
  },
  {
   "cell_type": "raw",
   "id": "085e9437-d3ba-432c-9f79-01100beff40f",
   "metadata": {},
   "source": [
    "Let's plot, calculate errors and that stuff"
   ]
  },
  {
   "cell_type": "code",
   "execution_count": null,
   "id": "da74d27c-5063-41ea-8f82-9d4920f3883b",
   "metadata": {},
   "outputs": [],
   "source": [
    "common.compare_mml_vs_truth_line_plot(df=df_comparison, x_col_name='Year', y_col_mml='mml_value', y_col_truth='truth_mean',variable_analyzed=MML_VARIABLE_ANALYZED, region=REGION)"
   ]
  },
  {
   "cell_type": "code",
   "execution_count": null,
   "id": "18730d7d-37f8-443e-af58-2134372956fb",
   "metadata": {},
   "outputs": [],
   "source": [
    "df_comparison['proportion_difference'] = df_comparison['truth_mean'] / df_comparison['mml_value']"
   ]
  },
  {
   "cell_type": "code",
   "execution_count": null,
   "id": "605bc03f-1a39-4fcd-8fd7-a8dcc3816fdd",
   "metadata": {},
   "outputs": [],
   "source": [
    "df_comparison"
   ]
  },
  {
   "cell_type": "markdown",
   "id": "2cbd1cc4-8474-4e82-bd9b-9c940422d42b",
   "metadata": {},
   "source": [
    "### Error visualization"
   ]
  },
  {
   "cell_type": "code",
   "execution_count": null,
   "id": "4148c8e8-0171-44a7-b4ed-aaf4c316f728",
   "metadata": {},
   "outputs": [],
   "source": [
    "common.compute_porcentual_diff_between_truth_and_mml(df_comparison,'mml_value', 'truth_mean')\n",
    "common.porcentual_diff_plot(df_comparison,MML_VARIABLE_ANALYZED, REGION, years_filtered, np.arange(-50,51,10))"
   ]
  },
  {
   "cell_type": "raw",
   "id": "72a44eab-29ee-4432-9bff-93f7bb6bfacd",
   "metadata": {},
   "source": [
    "common.save_porcentual_diff_to_excel_for_variable(df_comparison, MML_VARIABLE_ANALYZED, REGION)"
   ]
  }
 ],
 "metadata": {
  "kernelspec": {
   "display_name": "Python 3 (ipykernel)",
   "language": "python",
   "name": "python3"
  },
  "language_info": {
   "codemirror_mode": {
    "name": "ipython",
    "version": 3
   },
   "file_extension": ".py",
   "mimetype": "text/x-python",
   "name": "python",
   "nbconvert_exporter": "python",
   "pygments_lexer": "ipython3",
   "version": "3.8.10"
  }
 },
 "nbformat": 4,
 "nbformat_minor": 5
}
