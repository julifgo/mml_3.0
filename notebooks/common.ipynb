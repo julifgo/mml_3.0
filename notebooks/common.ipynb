{
 "cells": [
  {
   "cell_type": "code",
   "execution_count": 1,
   "id": "7b44751e-a4eb-4c65-b61a-97f898a85d61",
   "metadata": {},
   "outputs": [],
   "source": [
    "import pandas as pd\n",
    "import matplotlib\n",
    "import matplotlib.pyplot as plt\n",
    "# matplotlib.rcParams['figure.figsize'] = [18,20]\n",
    "# plt.gcf().set_size_inches(18,20, forward=True) "
   ]
  },
  {
   "cell_type": "markdown",
   "id": "12a882cf-0526-4b8f-b163-5eedd46ca582",
   "metadata": {},
   "source": [
    "### Common Objects and Variables"
   ]
  },
  {
   "cell_type": "code",
   "execution_count": 2,
   "id": "62218974-9ed3-469c-93b4-48c9d4c6fe45",
   "metadata": {},
   "outputs": [],
   "source": [
    "regions = {\n",
    "    'LAM':{\n",
    "        'name': 'Latin America',\n",
    "        'countries':['Argentina',\n",
    "                   'Bolivia',\n",
    "                   'Brazil',\n",
    "                  'Chile',\n",
    "                  'Colombia',\n",
    "                  'Costa Rica',\n",
    "                  'Cuba',\n",
    "                  'Ecuador',\n",
    "                  'El Salvador',\n",
    "                  'Guatemala',\n",
    "                  'Haiti',\n",
    "                  'Honduras',\n",
    "                  'Jamaica',\n",
    "                  'Mexico',\n",
    "                  'Nicaragua',\n",
    "                  'Panama',\n",
    "                  'Paraguay',\n",
    "                  'Peru',\n",
    "                  'Dominican Republic',\n",
    "                  'Trinidad and Tobago',\n",
    "                  'Uruguay',\n",
    "                  'Venezuela']\n",
    "          }\n",
    "}\n",
    "\n"
   ]
  },
  {
   "cell_type": "markdown",
   "id": "0c28625e-1fee-4d10-8953-0a874c1a5a52",
   "metadata": {
    "tags": []
   },
   "source": [
    "### Dataframe Utilities\n",
    "Like filtering, gets, saves"
   ]
  },
  {
   "cell_type": "code",
   "execution_count": 3,
   "id": "99d01d35-3d2a-47b7-9986-96c0e4e22cd6",
   "metadata": {},
   "outputs": [],
   "source": [
    "def get_countries_for_region(df, country_column, region='LAM'):\n",
    "    return df.loc[df[country_column].isin(regions[region]['countries'])]\n",
    "def get_missing_countries_for_region(df, country_column, region='LAM'):\n",
    "    df_countries_list = get_countries_for_region(df, country_column, region)[country_column]\n",
    "    return set(regions[region]['countries']) - set(df_countries_list)"
   ]
  },
  {
   "cell_type": "code",
   "execution_count": 4,
   "id": "63d359c0-0e80-4ea6-889c-4f700fa38442",
   "metadata": {},
   "outputs": [],
   "source": [
    "def get_mml_data():\n",
    "    #TODO. En el futuro, podremos identificar corridas especificas.\n",
    "    return pd.read_csv('data/mml_lam_1.csv')"
   ]
  },
  {
   "cell_type": "code",
   "execution_count": 5,
   "id": "f2c9e69b-9406-493a-adc2-41544cf1d417",
   "metadata": {},
   "outputs": [],
   "source": [
    "from pathlib import Path\n",
    "def save_porcentual_diff_to_excel_for_variable(df, variable_analyzed, path='data/output/diff_porcentual.xlsx'):\n",
    "    #TODO. Necesitamos agregar la region\n",
    "    if not Path(path).is_file():\n",
    "        df_diff_porcentual = df[['Year', 'diff_%']]\n",
    "        df_diff_porcentual.columns = ['Year', variable_analyzed]\n",
    "    else:\n",
    "        df_diff_porcentual = pd.read_excel(path)\n",
    "        df_diff_porcentual[variable_analyzed] = df['diff_%']\n",
    "    df_diff_porcentual.to_excel(path, index=False)"
   ]
  },
  {
   "cell_type": "markdown",
   "id": "9f0aa7b1-3fe8-4fde-96a8-e5db7cef5c12",
   "metadata": {
    "tags": []
   },
   "source": [
    "### Plots"
   ]
  },
  {
   "cell_type": "code",
   "execution_count": 6,
   "id": "3c2f9e49-f441-42eb-bed5-54fa2df6689e",
   "metadata": {},
   "outputs": [],
   "source": [
    "def compare_mml_vs_truth_line_plot(df, x_col_name, y_col_mml, y_col_truth, variable_analyzed, region, y_ticks=None):\n",
    "    plt.figure(figsize=(18,10))\n",
    "    plt.plot(df[x_col_name], df[y_col_mml], label = \"MML Simulation\", marker='o')\n",
    "    plt.plot(df[x_col_name], df[y_col_truth], label = \"Data\", marker='o')\n",
    "    plt.xticks(df[x_col_name], rotation=90)\n",
    "    if not y_ticks is None:\n",
    "        plt.yticks(y_ticks, rotation=90)\n",
    "    plt.xlabel(x_col_name)\n",
    "    plt.ylabel(variable_analyzed)\n",
    "    plt.grid()\n",
    "    plt.legend()\n",
    "    plt.title(f\"Year by Year plot of {variable_analyzed} values between measured data and MML standard simulation outputs for {regions[region]['name']}\")\n",
    "    plt.show()"
   ]
  },
  {
   "cell_type": "markdown",
   "id": "d1dec7f5-8045-434f-8f94-b896455429cd",
   "metadata": {
    "tags": []
   },
   "source": [
    "#### Error visualization\n",
    "\n",
    "We have a truth and a mml value.\n",
    "\n",
    "Off course, we assume that truth is truth.\n",
    "\n",
    "So the idea is calculate, year by year, the difference between them in terms of proportion. i.e 5% of difference for 1970; -3.6% of difference for 1974, etc\n",
    "\n",
    "The sign will indicate if mml is below (-) or above (+) truth"
   ]
  },
  {
   "cell_type": "code",
   "execution_count": 7,
   "id": "1ba97f65-bf0a-4dc1-bc11-93299331cb7a",
   "metadata": {},
   "outputs": [],
   "source": [
    "def compute_porcentual_diff_between_truth_and_mml(df,mml_value_column, truth_value_column):\n",
    "    df['diff_%'] = (df[mml_value_column] - df[truth_value_column]) / df[truth_value_column] * 100\n",
    "    \n",
    "def porcentual_diff_plot(df, variable_analyzed, region, x_ticks=None, y_ticks=None):\n",
    "    plt.figure(figsize=(18,8))\n",
    "    plt.bar(df['Year'], df['diff_%'])\n",
    "    plt.grid(axis='y')\n",
    "    if not y_ticks is None:\n",
    "        plt.yticks(y_ticks)\n",
    "    if not x_ticks is None:\n",
    "        plt.xticks(x_ticks)\n",
    "    plt.xlabel(\"Year\")\n",
    "    plt.ylabel(\"% difference\")\n",
    "    plt.title(f\"Porcentual difference between truth dataset and standard MML run for {variable_analyzed} for {regions[region]['name']}\")\n",
    "    plt.show()"
   ]
  }
 ],
 "metadata": {
  "kernelspec": {
   "display_name": "Python 3 (ipykernel)",
   "language": "python",
   "name": "python3"
  },
  "language_info": {
   "codemirror_mode": {
    "name": "ipython",
    "version": 3
   },
   "file_extension": ".py",
   "mimetype": "text/x-python",
   "name": "python",
   "nbconvert_exporter": "python",
   "pygments_lexer": "ipython3",
   "version": "3.8.10"
  }
 },
 "nbformat": 4,
 "nbformat_minor": 5
}
