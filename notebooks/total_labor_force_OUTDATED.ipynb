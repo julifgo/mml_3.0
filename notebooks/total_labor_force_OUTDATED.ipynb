{
 "cells": [
  {
   "cell_type": "code",
   "execution_count": 1,
   "id": "abe15e36-aaef-4c08-9f09-883fe121bda0",
   "metadata": {},
   "outputs": [],
   "source": [
    "import pandas as pd\n",
    "import numpy as np"
   ]
  },
  {
   "cell_type": "code",
   "execution_count": 2,
   "id": "c3bfb361-c0cd-4cb8-8552-46458c5c4e07",
   "metadata": {},
   "outputs": [],
   "source": [
    "MML_VARIABLE_ANALYZED = 'TLF'\n",
    "COUNTRY_COLUMN = 'ref_area.label'\n",
    "regions_countries = {\n",
    "    'LAM':['Argentina',\n",
    "           'Bolivia',\n",
    "           'Brazil',\n",
    "          'Chile',\n",
    "          'Colombia',\n",
    "          'Costa Rica',\n",
    "          'Cuba',\n",
    "          'Ecuador',\n",
    "          'El Salvador',\n",
    "          'Guatemala',\n",
    "          'Haiti',\n",
    "          'Honduras',\n",
    "          'Jamaica',\n",
    "          'Mexico',\n",
    "          'Nicaragua',\n",
    "          'Panama',\n",
    "          'Paraguay',\n",
    "          'Peru',\n",
    "          'Dominican Republic',\n",
    "          'Trinidad and Tobago',\n",
    "          'Uruguay',\n",
    "          'Venezuela']\n",
    "}"
   ]
  },
  {
   "cell_type": "code",
   "execution_count": 3,
   "id": "60916650-ac0d-42b0-a093-efd193e79f63",
   "metadata": {},
   "outputs": [],
   "source": [
    "df = pd.read_excel('data/EAP_TEAP_SEX_AGE_NB_A-filtered-2022-08-02.xlsx', sheet_name='EAP_TEAP_SEX_AGE_NB_A-filtered-')\n",
    "#Annual Total Population at Mid-Year (thousands)"
   ]
  },
  {
   "cell_type": "code",
   "execution_count": 4,
   "id": "df589163-6b2c-488d-838b-e9406770c0a1",
   "metadata": {},
   "outputs": [],
   "source": [
    "df.columns = df.columns.astype(str)\n",
    "df = df[[COUNTRY_COLUMN, 'time', 'obs_value']]\n",
    "df[COUNTRY_COLUMN]= df[COUNTRY_COLUMN].str.strip()"
   ]
  },
  {
   "cell_type": "code",
   "execution_count": 5,
   "id": "b8e0369b-f8d6-4f0f-9191-078bdfa1ed5a",
   "metadata": {},
   "outputs": [
    {
     "data": {
      "text/html": [
       "<div>\n",
       "<style scoped>\n",
       "    .dataframe tbody tr th:only-of-type {\n",
       "        vertical-align: middle;\n",
       "    }\n",
       "\n",
       "    .dataframe tbody tr th {\n",
       "        vertical-align: top;\n",
       "    }\n",
       "\n",
       "    .dataframe thead th {\n",
       "        text-align: right;\n",
       "    }\n",
       "</style>\n",
       "<table border=\"1\" class=\"dataframe\">\n",
       "  <thead>\n",
       "    <tr style=\"text-align: right;\">\n",
       "      <th></th>\n",
       "      <th>ref_area.label</th>\n",
       "      <th>time</th>\n",
       "      <th>obs_value</th>\n",
       "    </tr>\n",
       "  </thead>\n",
       "  <tbody>\n",
       "    <tr>\n",
       "      <th>0</th>\n",
       "      <td>Aruba</td>\n",
       "      <td>2007</td>\n",
       "      <td>54729</td>\n",
       "    </tr>\n",
       "    <tr>\n",
       "      <th>1</th>\n",
       "      <td>Aruba</td>\n",
       "      <td>2011</td>\n",
       "      <td>52585</td>\n",
       "    </tr>\n",
       "    <tr>\n",
       "      <th>2</th>\n",
       "      <td>Aruba</td>\n",
       "      <td>1991</td>\n",
       "      <td>31.11</td>\n",
       "    </tr>\n",
       "    <tr>\n",
       "      <th>3</th>\n",
       "      <td>Aruba</td>\n",
       "      <td>2010</td>\n",
       "      <td>52045</td>\n",
       "    </tr>\n",
       "    <tr>\n",
       "      <th>4</th>\n",
       "      <td>Afghanistan</td>\n",
       "      <td>2008</td>\n",
       "      <td>7678092</td>\n",
       "    </tr>\n",
       "  </tbody>\n",
       "</table>\n",
       "</div>"
      ],
      "text/plain": [
       "  ref_area.label  time obs_value\n",
       "0          Aruba  2007     54729\n",
       "1          Aruba  2011     52585\n",
       "2          Aruba  1991     31.11\n",
       "3          Aruba  2010     52045\n",
       "4    Afghanistan  2008   7678092"
      ]
     },
     "execution_count": 5,
     "metadata": {},
     "output_type": "execute_result"
    }
   ],
   "source": [
    "df[0:5]"
   ]
  },
  {
   "cell_type": "code",
   "execution_count": 6,
   "id": "8c863e7c-ac95-4a44-ba92-c10d5175d222",
   "metadata": {},
   "outputs": [],
   "source": [
    "def get_countries_for_region(df, country_column, region='LAM'):\n",
    "    return df.loc[df[country_column].isin(regions_countries[region])]\n",
    "def get_missing_countries_for_region(df, country_column, region='LAM'):\n",
    "    df_countries_list = get_countries_for_region(df, country_column, region)[country_column]\n",
    "    return set(regions_countries[region]) - set(df_countries_list)"
   ]
  },
  {
   "cell_type": "code",
   "execution_count": 7,
   "id": "6d17f1c9-b62b-4cda-b758-723d66bc67ea",
   "metadata": {},
   "outputs": [
    {
     "name": "stdout",
     "output_type": "stream",
     "text": [
      "Missing countries for region\n",
      "{'Venezuela'}\n",
      "Missing countries for region after fix\n",
      "set()\n"
     ]
    }
   ],
   "source": [
    "print(\"Missing countries for region\")\n",
    "print(get_missing_countries_for_region(df, COUNTRY_COLUMN))\n",
    "#Actually, they are not missing, they have a different value\n",
    "df.loc[df[COUNTRY_COLUMN] == 'Venezuela, Bolivarian Republic of', COUNTRY_COLUMN] = 'Venezuela'\n",
    "\n",
    "print(\"Missing countries for region after fix\")\n",
    "print(get_missing_countries_for_region(df, COUNTRY_COLUMN))"
   ]
  },
  {
   "cell_type": "code",
   "execution_count": 11,
   "id": "ad853427-4875-459e-9327-3e71f04f2e76",
   "metadata": {},
   "outputs": [
    {
     "data": {
      "text/html": [
       "<div>\n",
       "<style scoped>\n",
       "    .dataframe tbody tr th:only-of-type {\n",
       "        vertical-align: middle;\n",
       "    }\n",
       "\n",
       "    .dataframe tbody tr th {\n",
       "        vertical-align: top;\n",
       "    }\n",
       "\n",
       "    .dataframe thead th {\n",
       "        text-align: right;\n",
       "    }\n",
       "</style>\n",
       "<table border=\"1\" class=\"dataframe\">\n",
       "  <thead>\n",
       "    <tr style=\"text-align: right;\">\n",
       "      <th></th>\n",
       "      <th>ref_area.label</th>\n",
       "      <th>time</th>\n",
       "      <th>obs_value</th>\n",
       "    </tr>\n",
       "  </thead>\n",
       "  <tbody>\n",
       "    <tr>\n",
       "      <th>419</th>\n",
       "      <td>Bolivia</td>\n",
       "      <td>1980</td>\n",
       "      <td>1822305</td>\n",
       "    </tr>\n",
       "    <tr>\n",
       "      <th>420</th>\n",
       "      <td>Bolivia</td>\n",
       "      <td>1981</td>\n",
       "      <td>1864.99</td>\n",
       "    </tr>\n",
       "    <tr>\n",
       "      <th>421</th>\n",
       "      <td>Bolivia</td>\n",
       "      <td>1982</td>\n",
       "      <td>1890.7</td>\n",
       "    </tr>\n",
       "    <tr>\n",
       "      <th>422</th>\n",
       "      <td>Bolivia</td>\n",
       "      <td>1985</td>\n",
       "      <td>1996459</td>\n",
       "    </tr>\n",
       "    <tr>\n",
       "      <th>423</th>\n",
       "      <td>Bolivia</td>\n",
       "      <td>1986</td>\n",
       "      <td>2076782</td>\n",
       "    </tr>\n",
       "    <tr>\n",
       "      <th>424</th>\n",
       "      <td>Bolivia</td>\n",
       "      <td>1987</td>\n",
       "      <td>2101052</td>\n",
       "    </tr>\n",
       "    <tr>\n",
       "      <th>401</th>\n",
       "      <td>Bolivia</td>\n",
       "      <td>1995</td>\n",
       "      <td>1316723</td>\n",
       "    </tr>\n",
       "    <tr>\n",
       "      <th>402</th>\n",
       "      <td>Bolivia</td>\n",
       "      <td>1996</td>\n",
       "      <td>1413228</td>\n",
       "    </tr>\n",
       "    <tr>\n",
       "      <th>403</th>\n",
       "      <td>Bolivia</td>\n",
       "      <td>1997</td>\n",
       "      <td>3645165</td>\n",
       "    </tr>\n",
       "    <tr>\n",
       "      <th>404</th>\n",
       "      <td>Bolivia</td>\n",
       "      <td>2000</td>\n",
       "      <td>3823937</td>\n",
       "    </tr>\n",
       "    <tr>\n",
       "      <th>410</th>\n",
       "      <td>Bolivia</td>\n",
       "      <td>2008</td>\n",
       "      <td>4699746</td>\n",
       "    </tr>\n",
       "    <tr>\n",
       "      <th>411</th>\n",
       "      <td>Bolivia</td>\n",
       "      <td>2009</td>\n",
       "      <td>4869991</td>\n",
       "    </tr>\n",
       "    <tr>\n",
       "      <th>412</th>\n",
       "      <td>Bolivia</td>\n",
       "      <td>2011</td>\n",
       "      <td>4906473</td>\n",
       "    </tr>\n",
       "    <tr>\n",
       "      <th>413</th>\n",
       "      <td>Bolivia</td>\n",
       "      <td>2012</td>\n",
       "      <td>4792315</td>\n",
       "    </tr>\n",
       "    <tr>\n",
       "      <th>414</th>\n",
       "      <td>Bolivia</td>\n",
       "      <td>2013</td>\n",
       "      <td>5069213</td>\n",
       "    </tr>\n",
       "    <tr>\n",
       "      <th>415</th>\n",
       "      <td>Bolivia</td>\n",
       "      <td>2014</td>\n",
       "      <td>5187.16</td>\n",
       "    </tr>\n",
       "    <tr>\n",
       "      <th>416</th>\n",
       "      <td>Bolivia</td>\n",
       "      <td>2015</td>\n",
       "      <td>5056-06-01 00:00:00</td>\n",
       "    </tr>\n",
       "    <tr>\n",
       "      <th>405</th>\n",
       "      <td>Bolivia</td>\n",
       "      <td>2016</td>\n",
       "      <td>5027333</td>\n",
       "    </tr>\n",
       "    <tr>\n",
       "      <th>406</th>\n",
       "      <td>Bolivia</td>\n",
       "      <td>2017</td>\n",
       "      <td>5230045</td>\n",
       "    </tr>\n",
       "    <tr>\n",
       "      <th>407</th>\n",
       "      <td>Bolivia</td>\n",
       "      <td>2018</td>\n",
       "      <td>5561678</td>\n",
       "    </tr>\n",
       "    <tr>\n",
       "      <th>408</th>\n",
       "      <td>Bolivia</td>\n",
       "      <td>2019</td>\n",
       "      <td>5837034</td>\n",
       "    </tr>\n",
       "    <tr>\n",
       "      <th>417</th>\n",
       "      <td>Bolivia</td>\n",
       "      <td>2020</td>\n",
       "      <td>5904521</td>\n",
       "    </tr>\n",
       "    <tr>\n",
       "      <th>409</th>\n",
       "      <td>Bolivia</td>\n",
       "      <td>2021</td>\n",
       "      <td>6478.74</td>\n",
       "    </tr>\n",
       "    <tr>\n",
       "      <th>451</th>\n",
       "      <td>Brazil</td>\n",
       "      <td>1960</td>\n",
       "      <td>21361986</td>\n",
       "    </tr>\n",
       "  </tbody>\n",
       "</table>\n",
       "</div>"
      ],
      "text/plain": [
       "    ref_area.label  time            obs_value\n",
       "419        Bolivia  1980              1822305\n",
       "420        Bolivia  1981              1864.99\n",
       "421        Bolivia  1982               1890.7\n",
       "422        Bolivia  1985              1996459\n",
       "423        Bolivia  1986              2076782\n",
       "424        Bolivia  1987              2101052\n",
       "401        Bolivia  1995              1316723\n",
       "402        Bolivia  1996              1413228\n",
       "403        Bolivia  1997              3645165\n",
       "404        Bolivia  2000              3823937\n",
       "410        Bolivia  2008              4699746\n",
       "411        Bolivia  2009              4869991\n",
       "412        Bolivia  2011              4906473\n",
       "413        Bolivia  2012              4792315\n",
       "414        Bolivia  2013              5069213\n",
       "415        Bolivia  2014              5187.16\n",
       "416        Bolivia  2015  5056-06-01 00:00:00\n",
       "405        Bolivia  2016              5027333\n",
       "406        Bolivia  2017              5230045\n",
       "407        Bolivia  2018              5561678\n",
       "408        Bolivia  2019              5837034\n",
       "417        Bolivia  2020              5904521\n",
       "409        Bolivia  2021              6478.74\n",
       "451         Brazil  1960             21361986"
      ]
     },
     "execution_count": 11,
     "metadata": {},
     "output_type": "execute_result"
    }
   ],
   "source": [
    "get_countries_for_region(df, COUNTRY_COLUMN).sort_values([COUNTRY_COLUMN,'time'],ascending=[True,True])[26:50]"
   ]
  },
  {
   "cell_type": "code",
   "execution_count": null,
   "id": "7374f984-60c3-4c59-a128-9417a183fa6a",
   "metadata": {},
   "outputs": [],
   "source": [
    "df_latin_america_truth = get_countries_for_region(df, COUNTRY_COLUMN)\n",
    "assert len(df_latin_america_truth) == len(regions_countries['LAM']), 'MISSING COUNTRIES FOR REGION'"
   ]
  },
  {
   "cell_type": "code",
   "execution_count": null,
   "id": "0ff767a7-99eb-4a22-9ed1-b9e3b8da3bf4",
   "metadata": {},
   "outputs": [],
   "source": [
    "years_filtered = np.arange(1970,2020,2) #[1970,2020) just even years\n",
    "columns_filter = np.append([COUNTRY_COLUMN],years_filtered)\n",
    "\n",
    "df_latin_america_truth = df_latin_america_truth[columns_filter]\n",
    "assert 0 == df_latin_america_truth.isna().sum().sum(), \"MISSING VALUES. CONSIDER FILL STRATEGY\" #If 0, then we don't have missing values."
   ]
  },
  {
   "cell_type": "markdown",
   "id": "fdb98c64-ddd3-4480-9596-c18c4532aa0e",
   "metadata": {},
   "source": [
    "Finally, we got our truth dataframe. Now, MML"
   ]
  },
  {
   "cell_type": "code",
   "execution_count": null,
   "id": "8bcee822-002c-4c03-8e78-08b941c5937b",
   "metadata": {},
   "outputs": [],
   "source": [
    "df_mml = pd.read_csv('data/mml_lam_1.csv')\n",
    "df_mml = df_mml[['Year',MML_VARIABLE_ANALYZED]]\n",
    "df_mml = df_mml[df_mml.Year <= 2020]\n",
    "# According to truth dataset, population values are expressed in thousands, so 1 in truth is actually 1000.\n",
    "df_mml[MML_VARIABLE_ANALYZED] = df_mml[MML_VARIABLE_ANALYZED] / 1000 \n",
    "df_mml[0:3]"
   ]
  },
  {
   "cell_type": "markdown",
   "id": "5b98002d-c57a-49c4-b1dc-c3543ed3008e",
   "metadata": {},
   "source": [
    "Ok, that was easy. Back to truth df. \n",
    "We need to transpose df, get only even years and group by some condition"
   ]
  },
  {
   "cell_type": "code",
   "execution_count": null,
   "id": "16f38d0c-97e7-49ae-8ba2-5f421d8c9a23",
   "metadata": {},
   "outputs": [],
   "source": [
    "df_T = df_latin_america_truth.set_index(COUNTRY_COLUMN).T\n",
    "df_T = df_T.reset_index().rename(columns={\"index\": \"Year\"})\n",
    "# df_T.rename_axis(None, axis=1)\n",
    "# df_T.index.name = None\n",
    "\n",
    "df_latin_america_truth = df_T.astype({'Year': 'int64'})\n",
    "df_latin_america_truth"
   ]
  },
  {
   "cell_type": "code",
   "execution_count": null,
   "id": "6d4332d6-5fed-4304-8267-8614956aea95",
   "metadata": {},
   "outputs": [],
   "source": [
    "df_latin_america_truth['sum'] = df_latin_america_truth.iloc[:, 1:len(regions_countries['LAM'])+1].sum(axis=1)\n",
    "df_latin_america_truth_aggs = df_latin_america_truth[['Year','sum']]"
   ]
  },
  {
   "cell_type": "code",
   "execution_count": null,
   "id": "740dca3d-091a-4858-9805-17fa322cf093",
   "metadata": {},
   "outputs": [],
   "source": [
    "df = pd.merge(df_mml,df_latin_america_truth_aggs,on='Year').rename(columns={\"POP\": \"mml_value\", \"sum\":\"truth_value\"})\n",
    "df[0:3]"
   ]
  },
  {
   "cell_type": "raw",
   "id": "085e9437-d3ba-432c-9f79-01100beff40f",
   "metadata": {},
   "source": [
    "Let's plot, calculate errors and that stuff"
   ]
  },
  {
   "cell_type": "code",
   "execution_count": null,
   "id": "31f578e0-5c1b-4747-a6c3-c88e87ffa4b1",
   "metadata": {},
   "outputs": [],
   "source": [
    "import matplotlib\n",
    "import matplotlib.pyplot as plt\n",
    "matplotlib.rcParams['figure.figsize'] = [18,10]"
   ]
  },
  {
   "cell_type": "code",
   "execution_count": null,
   "id": "da74d27c-5063-41ea-8f82-9d4920f3883b",
   "metadata": {},
   "outputs": [],
   "source": [
    "def plot_lines(df):\n",
    "    # plot lines\n",
    "    plt.plot(df['Year'], df['mml_value'], label = \"MML Values\")\n",
    "    plt.plot(df['Year'], df['truth_value'], label = \"Truth Values\")\n",
    "    \n",
    "    plt.xticks(df['Year'], rotation=90)\n",
    "    plt.xlabel('Year')\n",
    "    plt.ylabel(MML_VARIABLE_ANALYZED)\n",
    "    plt.grid(axis = 'x')\n",
    "    plt.legend()\n",
    "    plt.show()\n",
    "plot_lines(df)"
   ]
  },
  {
   "cell_type": "markdown",
   "id": "aa62ce9b-7623-4081-9dc7-fe7989da91fc",
   "metadata": {},
   "source": [
    "### MSE\n",
    "MSE is one of the most common regression loss functions. In Mean Squared Error also known as L2 loss, we calculate the error by squaring the difference between the predicted value and actual value and averaging it across the dataset. MSE is also known as Quadratic loss as the penalty is not proportional to the error but to the square of the error.\n",
    "\n",
    "**Squaring the error gives higher weight to the outliers, which results in a smooth gradient for small errors.** \n",
    "\n",
    "**The value of the error ranges from zero to infinity.**\n",
    "\n",
    "**MSE increases exponentially with an increase in error.**\n",
    "\n",
    "**A good model will have an MSE value closer to zero.**\n",
    "\n",
    "https://www.analyticsvidhya.com/blog/2021/10/evaluation-metric-for-regression-models/\n",
    "\n",
    "### RMSE\n",
    "Similar, but it takes square root to preserve the original magnitude of the diference in the errors."
   ]
  },
  {
   "cell_type": "code",
   "execution_count": null,
   "id": "78acc0f5-6c72-4f4c-bc36-55c68eae0ada",
   "metadata": {},
   "outputs": [],
   "source": [
    "def mean_squared_error(true, pred):\n",
    "    squared_error = np.square(true - pred) \n",
    "    sum_squared_error = np.sum(squared_error)\n",
    "    mse_loss = sum_squared_error / true.size\n",
    "    return mse_loss\n",
    "\n",
    "def root_mean_squared_error(true, pred):\n",
    "    squared_error = np.square(true - pred) \n",
    "    sum_squared_error = np.sum(squared_error)\n",
    "    rmse_loss = np.sqrt(sum_squared_error / true.size)\n",
    "    return rmse_loss"
   ]
  },
  {
   "cell_type": "code",
   "execution_count": null,
   "id": "7df1094c-41ed-4b63-9a9e-3f761ef1cf5d",
   "metadata": {},
   "outputs": [],
   "source": [
    "rmse = root_mean_squared_error(df['truth_value'],df['mml_value'])\n",
    "mse = mean_squared_error(df['truth_value'],df['mml_value'])\n",
    "\n",
    "\n",
    "print(mse, rmse)"
   ]
  },
  {
   "cell_type": "markdown",
   "id": "3da546fd-4998-4f82-94b4-54e6ccc476a0",
   "metadata": {},
   "source": [
    "As we see in the graph, from 1988, mml stops growing as the truth continues the original tendence.\n",
    "\n",
    "### 1970 - 1988\n",
    "\n",
    "So, let's take only from 1970-1988"
   ]
  },
  {
   "cell_type": "code",
   "execution_count": null,
   "id": "e5987b75-9dc8-4ec1-a0e4-d664c087eafa",
   "metadata": {},
   "outputs": [],
   "source": [
    "df_1988 = df[df['Year']<=1988]\n",
    "rmse_1988 = root_mean_squared_error(df_1988['truth_value'],df_1988['mml_value'])\n",
    "mse_1988 = mean_squared_error(df_1988['truth_value'],df_1988['mml_value'])\n",
    "\n",
    "print(mse_1988, rmse_1988)\n",
    "plot_lines(df_1988)"
   ]
  },
  {
   "cell_type": "markdown",
   "id": "742e5354-8d5d-4bd1-b4d1-e94ff1af4cbb",
   "metadata": {},
   "source": [
    "Mean seems to be quite accurate in that interval"
   ]
  },
  {
   "cell_type": "markdown",
   "id": "a51a78ba-b20d-4733-8f71-f1dc0408c866",
   "metadata": {},
   "source": [
    "### Error visualization\n",
    "\n",
    "We have a truth and a mml value.\n",
    "\n",
    "Off course, we assume that truth is truth.\n",
    "\n",
    "So the idea is calculate, year by year, the difference between them in terms of proportion. i.e 5% of difference for 1970; -3.6% of difference for 1974, etc\n",
    "\n",
    "The sign will indicate if mml is below (-) or above (+) truth"
   ]
  },
  {
   "cell_type": "code",
   "execution_count": null,
   "id": "2d13b2f2-1f0d-4fcd-9b57-3ae141a18e81",
   "metadata": {},
   "outputs": [],
   "source": [
    "df['diff_%'] = (df['mml_value'] - df['truth_value']) / df['truth_value'] * 100\n",
    "df"
   ]
  },
  {
   "cell_type": "code",
   "execution_count": null,
   "id": "187029ea-a910-4fd6-a035-858f8526943d",
   "metadata": {},
   "outputs": [],
   "source": [
    "plt.bar(df['Year'], df['diff_%'])\n",
    "plt.grid(axis='y')\n",
    "# plt.ylim(-50,50)\n",
    "plt.yticks(np.arange(-25,26,5))\n",
    "plt.xticks(years_filtered)\n",
    "plt.xlabel(\"Year\")\n",
    "plt.ylabel(\"% difference\")\n",
    "plt.title(f\"Porcentual difference between truth and MML for {MML_VARIABLE_ANALYZED}\")\n",
    "plt.show()"
   ]
  },
  {
   "cell_type": "code",
   "execution_count": null,
   "id": "3fbc1a37-1da1-45f4-b639-3fb89d7f0bac",
   "metadata": {},
   "outputs": [],
   "source": [
    "df_diff_porcentual = df[['Year', 'diff_%']]\n",
    "df_diff_porcentual.columns = ['Year', MML_VARIABLE_ANALYZED]"
   ]
  },
  {
   "cell_type": "code",
   "execution_count": null,
   "id": "b2425d1b-1a49-43fb-a5e7-c063bd227788",
   "metadata": {},
   "outputs": [],
   "source": [
    "#TODO. MEJORAR ESTO PARA QUE SE BANQUE QUE SI NO EXISTE EL ARCHIVO LO CREA, SI EXISTE SOBREESCRIBE COLUMNA.\n",
    "\n",
    "d = pd.read_excel('data/output/diff_porcentual.xlsx')\n",
    "d[MML_VARIABLE_ANALYZED] = df_diff_porcentual[MML_VARIABLE_ANALYZED]\n",
    "d.to_excel('data/output/diff_porcentual.xlsx', index=False)"
   ]
  }
 ],
 "metadata": {
  "kernelspec": {
   "display_name": "Python 3 (ipykernel)",
   "language": "python",
   "name": "python3"
  },
  "language_info": {
   "codemirror_mode": {
    "name": "ipython",
    "version": 3
   },
   "file_extension": ".py",
   "mimetype": "text/x-python",
   "name": "python",
   "nbconvert_exporter": "python",
   "pygments_lexer": "ipython3",
   "version": "3.8.10"
  }
 },
 "nbformat": 4,
 "nbformat_minor": 5
}
