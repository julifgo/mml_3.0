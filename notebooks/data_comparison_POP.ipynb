{
 "cells": [
  {
   "cell_type": "code",
   "execution_count": 1,
   "id": "abe15e36-aaef-4c08-9f09-883fe121bda0",
   "metadata": {},
   "outputs": [],
   "source": [
    "import pandas as pd\n",
    "import numpy as np\n",
    "#Load common functions\n",
    "import ipynb.fs.full.common as common"
   ]
  },
  {
   "cell_type": "code",
   "execution_count": 2,
   "id": "c3bfb361-c0cd-4cb8-8552-46458c5c4e07",
   "metadata": {},
   "outputs": [],
   "source": [
    "MML_VARIABLE_ANALYZED = 'POP'\n",
    "REGION = \"DEVELOPED\""
   ]
  },
  {
   "cell_type": "code",
   "execution_count": 3,
   "id": "60916650-ac0d-42b0-a093-efd193e79f63",
   "metadata": {},
   "outputs": [
    {
     "data": {
      "text/html": [
       "<div>\n",
       "<style scoped>\n",
       "    .dataframe tbody tr th:only-of-type {\n",
       "        vertical-align: middle;\n",
       "    }\n",
       "\n",
       "    .dataframe tbody tr th {\n",
       "        vertical-align: top;\n",
       "    }\n",
       "\n",
       "    .dataframe thead th {\n",
       "        text-align: right;\n",
       "    }\n",
       "</style>\n",
       "<table border=\"1\" class=\"dataframe\">\n",
       "  <thead>\n",
       "    <tr style=\"text-align: right;\">\n",
       "      <th></th>\n",
       "      <th>ISO 3166-1 numeric code</th>\n",
       "      <th>Location</th>\n",
       "      <th>Note</th>\n",
       "      <th>1970</th>\n",
       "      <th>1972</th>\n",
       "      <th>1974</th>\n",
       "      <th>1976</th>\n",
       "      <th>1978</th>\n",
       "      <th>1980</th>\n",
       "      <th>1982</th>\n",
       "      <th>...</th>\n",
       "      <th>2012</th>\n",
       "      <th>2014</th>\n",
       "      <th>2016</th>\n",
       "      <th>2018</th>\n",
       "      <th>2020</th>\n",
       "      <th>2030</th>\n",
       "      <th>2035</th>\n",
       "      <th>2040</th>\n",
       "      <th>2045</th>\n",
       "      <th>2050</th>\n",
       "    </tr>\n",
       "  </thead>\n",
       "  <tbody>\n",
       "    <tr>\n",
       "      <th>0</th>\n",
       "      <td>900</td>\n",
       "      <td>World</td>\n",
       "      <td>NaN</td>\n",
       "      <td>3700578</td>\n",
       "      <td>3851545</td>\n",
       "      <td>4003448</td>\n",
       "      <td>4154288</td>\n",
       "      <td>4304377</td>\n",
       "      <td>4458412</td>\n",
       "      <td>4618776</td>\n",
       "      <td>...</td>\n",
       "      <td>7128177</td>\n",
       "      <td>7298453</td>\n",
       "      <td>7466964</td>\n",
       "      <td>7632819</td>\n",
       "      <td>7795482</td>\n",
       "      <td>8551199</td>\n",
       "      <td>8892702</td>\n",
       "      <td>9210337</td>\n",
       "      <td>9504210</td>\n",
       "      <td>9771823</td>\n",
       "    </tr>\n",
       "    <tr>\n",
       "      <th>1</th>\n",
       "      <td>901</td>\n",
       "      <td>More developed regions</td>\n",
       "      <td>a</td>\n",
       "      <td>1009082</td>\n",
       "      <td>1025511</td>\n",
       "      <td>1041700</td>\n",
       "      <td>1056821</td>\n",
       "      <td>1070879</td>\n",
       "      <td>1084244</td>\n",
       "      <td>1097084</td>\n",
       "      <td>...</td>\n",
       "      <td>1243055</td>\n",
       "      <td>1249864</td>\n",
       "      <td>1256576</td>\n",
       "      <td>1263200</td>\n",
       "      <td>1269277</td>\n",
       "      <td>1289937</td>\n",
       "      <td>1295000</td>\n",
       "      <td>1297496</td>\n",
       "      <td>1298349</td>\n",
       "      <td>1298069</td>\n",
       "    </tr>\n",
       "    <tr>\n",
       "      <th>2</th>\n",
       "      <td>902</td>\n",
       "      <td>Less developed regions</td>\n",
       "      <td>b</td>\n",
       "      <td>2691496</td>\n",
       "      <td>2826034</td>\n",
       "      <td>2961748</td>\n",
       "      <td>3097467</td>\n",
       "      <td>3233498</td>\n",
       "      <td>3374167</td>\n",
       "      <td>3521693</td>\n",
       "      <td>...</td>\n",
       "      <td>5885122</td>\n",
       "      <td>6048590</td>\n",
       "      <td>6210388</td>\n",
       "      <td>6369620</td>\n",
       "      <td>6526205</td>\n",
       "      <td>7261262</td>\n",
       "      <td>7597702</td>\n",
       "      <td>7912841</td>\n",
       "      <td>8205861</td>\n",
       "      <td>8473754</td>\n",
       "    </tr>\n",
       "    <tr>\n",
       "      <th>3</th>\n",
       "      <td>941</td>\n",
       "      <td>Least developed countries</td>\n",
       "      <td>c</td>\n",
       "      <td>308486</td>\n",
       "      <td>323507</td>\n",
       "      <td>338920</td>\n",
       "      <td>355654</td>\n",
       "      <td>373854</td>\n",
       "      <td>393279</td>\n",
       "      <td>413847</td>\n",
       "      <td>...</td>\n",
       "      <td>890423</td>\n",
       "      <td>934192</td>\n",
       "      <td>979388</td>\n",
       "      <td>1025937</td>\n",
       "      <td>1073984</td>\n",
       "      <td>1334196</td>\n",
       "      <td>1474183</td>\n",
       "      <td>1618985</td>\n",
       "      <td>1767059</td>\n",
       "      <td>1916742</td>\n",
       "    </tr>\n",
       "    <tr>\n",
       "      <th>4</th>\n",
       "      <td>934</td>\n",
       "      <td>Less developed regions, excluding least ...</td>\n",
       "      <td>d</td>\n",
       "      <td>2383009</td>\n",
       "      <td>2502528</td>\n",
       "      <td>2622827</td>\n",
       "      <td>2741813</td>\n",
       "      <td>2859643</td>\n",
       "      <td>2980888</td>\n",
       "      <td>3107846</td>\n",
       "      <td>...</td>\n",
       "      <td>4994699</td>\n",
       "      <td>5114397</td>\n",
       "      <td>5231000</td>\n",
       "      <td>5343683</td>\n",
       "      <td>5452221</td>\n",
       "      <td>5927066</td>\n",
       "      <td>6123520</td>\n",
       "      <td>6293857</td>\n",
       "      <td>6438801</td>\n",
       "      <td>6557013</td>\n",
       "    </tr>\n",
       "  </tbody>\n",
       "</table>\n",
       "<p>5 rows × 34 columns</p>\n",
       "</div>"
      ],
      "text/plain": [
       "   ISO 3166-1 numeric code                                           Location  \\\n",
       "0                      900                                              World   \n",
       "1                      901                             More developed regions   \n",
       "2                      902                             Less developed regions   \n",
       "3                      941                          Least developed countries   \n",
       "4                      934        Less developed regions, excluding least ...   \n",
       "\n",
       "  Note     1970     1972     1974     1976     1978     1980     1982  ...  \\\n",
       "0  NaN  3700578  3851545  4003448  4154288  4304377  4458412  4618776  ...   \n",
       "1    a  1009082  1025511  1041700  1056821  1070879  1084244  1097084  ...   \n",
       "2    b  2691496  2826034  2961748  3097467  3233498  3374167  3521693  ...   \n",
       "3    c   308486   323507   338920   355654   373854   393279   413847  ...   \n",
       "4    d  2383009  2502528  2622827  2741813  2859643  2980888  3107846  ...   \n",
       "\n",
       "      2012     2014     2016     2018     2020     2030     2035     2040  \\\n",
       "0  7128177  7298453  7466964  7632819  7795482  8551199  8892702  9210337   \n",
       "1  1243055  1249864  1256576  1263200  1269277  1289937  1295000  1297496   \n",
       "2  5885122  6048590  6210388  6369620  6526205  7261262  7597702  7912841   \n",
       "3   890423   934192   979388  1025937  1073984  1334196  1474183  1618985   \n",
       "4  4994699  5114397  5231000  5343683  5452221  5927066  6123520  6293857   \n",
       "\n",
       "      2045     2050  \n",
       "0  9504210  9771823  \n",
       "1  1298349  1298069  \n",
       "2  8205861  8473754  \n",
       "3  1767059  1916742  \n",
       "4  6438801  6557013  \n",
       "\n",
       "[5 rows x 34 columns]"
      ]
     },
     "execution_count": 3,
     "metadata": {},
     "output_type": "execute_result"
    }
   ],
   "source": [
    "df = pd.read_excel(f\"data/{REGION}/AnnualTotPopMidYear-20221027061003.xlsx\", sheet_name='Data')\n",
    "#Annual Total Population at Mid-Year (thousands)\n",
    "df[0:5]"
   ]
  },
  {
   "cell_type": "code",
   "execution_count": 4,
   "id": "600ff56c-eade-4882-8de5-044f33679d48",
   "metadata": {},
   "outputs": [],
   "source": [
    "del df['ISO 3166-1 numeric code']\n",
    "del df['Note']\n",
    "df.columns = df.columns.astype(str)\n",
    "df['Location'] = df['Location'].str.strip()\n"
   ]
  },
  {
   "cell_type": "code",
   "execution_count": 5,
   "id": "0b77ccad-1491-4329-9785-a1b4a4f29dab",
   "metadata": {},
   "outputs": [],
   "source": [
    "def fix_countries_for_region(df, region=REGION):\n",
    "    '''Matc h country column name in dataset with MML dict of country names for region.\n",
    "    Unfortunately, it's a manual job. We know which names are missing according to MML, but we don't how the truth dataset named that country (if exists at all).\n",
    "    \n",
    "    '''\n",
    "    if region == 'DEVELOPED':\n",
    "        fix_countries_for_developed(df)\n",
    "    if region == 'LAM':\n",
    "        fix_countries_for_lam(df)\n",
    "def fix_countries_for_developed(df):\n",
    "    common.replace_value_in_column(df,'Location','Tajikistan','Tayikistan')\n",
    "    common.replace_value_in_column(df,'Location','Lebanon','Libano')\n",
    "    common.replace_value_in_column(df,'Location','Bosnia and Herzegovina','Bosnia y Herzegovina')\n",
    "    common.replace_value_in_column(df,'Location','Japan','Japon')\n",
    "    common.replace_value_in_column(df,'Location','Kyrgyzstan','Kirguistan')\n",
    "    common.replace_value_in_column(df,'Location', 'Ukraine', 'Ucrania')\n",
    "    common.replace_value_in_column(df,'Location','Czechia','Republica Checa')\n",
    "    common.replace_value_in_column(df,'Location','Finland','Finlandia')\n",
    "    common.replace_value_in_column(df,'Location','Denmark','Dinamarca')\n",
    "    common.replace_value_in_column(df,'Location','Spain','España')\n",
    "    common.replace_value_in_column(df,'Location','United States of America','EEUU')\n",
    "    common.replace_value_in_column(df,'Location','Norway','Noruega')\n",
    "    common.replace_value_in_column(df,'Location','Belgium','Belgica')\n",
    "    common.replace_value_in_column(df,'Location','Hungary','Hungria')\n",
    "    common.replace_value_in_column(df,'Location','Russian Federation','Rusia')\n",
    "    common.replace_value_in_column(df,'Location','Switzerland','Suiza')\n",
    "    common.replace_value_in_column(df,'Location','France','Francia')\n",
    "    common.replace_value_in_column(df,'Location','Poland','Polonia')\n",
    "    common.replace_value_in_column(df,'Location','Ireland','Irlanda')\n",
    "    common.replace_value_in_column(df,'Location','Slovenia','Eslovenia')\n",
    "    common.replace_value_in_column(df,'Location','Greece','Grecia')\n",
    "    common.replace_value_in_column(df,'Location','Romania','Rumania')\n",
    "    common.replace_value_in_column(df,'Location','Sweden','Suecia')\n",
    "    common.replace_value_in_column(df,'Location','Croatia','Croacia')\n",
    "    common.replace_value_in_column(df,'Location','Netherlands','Paises Bajos')\n",
    "    common.replace_value_in_column(df,'Location','Latvia','Letonia')\n",
    "    common.replace_value_in_column(df,'Location','Kazakhstan','Kazajistan')\n",
    "    common.replace_value_in_column(df,'Location','Lithuania','Lituania')\n",
    "    common.replace_value_in_column(df,'Location','United Kingdom','Reino Unido')\n",
    "    common.replace_value_in_column(df,'Location','TFYR Macedonia','Macedonia')\n",
    "    common.replace_value_in_column(df,'Location','Germany','Alemania')\n",
    "    common.replace_value_in_column(df,'Location','Italy','Italia')\n",
    "    common.replace_value_in_column(df,'Location','New Zealand','Nueva Zelanda')\n",
    "    common.replace_value_in_column(df,'Location','Belarus','Bielorrusia')\n",
    "    common.replace_value_in_column(df,'Location','Republic of Moldova','Moldavia')\n",
    "    common.replace_value_in_column(df,'Location','Slovakia','Eslovaquia')\n",
    "    common.replace_value_in_column(df,'Location','Azerbaijan','Azerbaiyan')\n",
    "    \n",
    "def fix_countries_for_lam(df):\n",
    "    common.replace_value_in_column(df, 'Location', 'Venezuela (Bolivarian Republic of)','Venezuela')\n",
    "    common.replace_value_in_column(df, 'Location', 'Bolivia (Plurinational State of)','Bolivia')    \n",
    "    common.replace_value_in_column(df, 'Location', 'Dominican Republic', 'Republica Dominicana')\n",
    "    common.replace_value_in_column(df, 'Location', 'Trinidad and Tobago', 'Trinidad y Tobago')\n",
    "    common.replace_value_in_column(df, 'Location', 'Brazil', 'Brasil')"
   ]
  },
  {
   "cell_type": "code",
   "execution_count": 6,
   "id": "6d17f1c9-b62b-4cda-b758-723d66bc67ea",
   "metadata": {},
   "outputs": [
    {
     "name": "stdout",
     "output_type": "stream",
     "text": [
      "Missing countries for region\n",
      "{'Eslovenia', 'Letonia', 'Reino Unido', 'Kazajistan', 'Polonia', 'Rumania', 'Libano', 'Nueva Zelanda', 'Macedonia', 'Lituania', 'Tayikistan', 'Francia', 'Bielorrusia', 'Suiza', 'Paises Bajos', 'Moldavia', 'Republica Checa', 'Dinamarca', 'Noruega', 'Rusia', 'Eslovaquia', 'Croacia', 'Azerbaiyan', 'Hungria', 'Ucrania', 'Bosnia y Herzegovina', 'Italia', 'Belgica', 'Japon', 'España', 'Finlandia', 'Grecia', 'EEUU', 'Kirguistan', 'Suecia', 'Alemania', 'Irlanda'}\n",
      "Missing countries for region after fix\n",
      "set()\n"
     ]
    }
   ],
   "source": [
    "print(\"Missing countries for region\")\n",
    "print(common.get_missing_countries_for_region(df, 'Location', REGION))\n",
    "#Actually, they are not missing, they have a different value\n",
    "fix_countries_for_region(df)\n",
    "print(\"Missing countries for region after fix\")\n",
    "print(common.get_missing_countries_for_region(df, 'Location', REGION))"
   ]
  },
  {
   "cell_type": "code",
   "execution_count": 7,
   "id": "7374f984-60c3-4c59-a128-9417a183fa6a",
   "metadata": {},
   "outputs": [],
   "source": [
    "df_truth = common.get_countries_for_region(df, 'Location', REGION)\n",
    "assert len(df_truth) == len(common.regions[REGION]['countries']), 'MISSING COUNTRIES FOR REGION'"
   ]
  },
  {
   "cell_type": "code",
   "execution_count": 8,
   "id": "0ff767a7-99eb-4a22-9ed1-b9e3b8da3bf4",
   "metadata": {},
   "outputs": [],
   "source": [
    "years_filtered = np.arange(1970,2020,2) \n",
    "columns_filter = np.append(['Location'],years_filtered)\n",
    "\n",
    "df_truth = df_truth[columns_filter]\n",
    "assert 0 == df_truth.isna().sum().sum(), \"MISSING VALUES. CONSIDER FILL STRATEGY\" #If 0, then we don't have missing values.\n",
    "assert not (df_truth == 0).any().any(), \"CELLS WITH 0\" "
   ]
  },
  {
   "cell_type": "markdown",
   "id": "fdb98c64-ddd3-4480-9596-c18c4532aa0e",
   "metadata": {},
   "source": [
    "Finally, we got our truth dataframe. Now, MML"
   ]
  },
  {
   "cell_type": "code",
   "execution_count": 9,
   "id": "8bcee822-002c-4c03-8e78-08b941c5937b",
   "metadata": {},
   "outputs": [
    {
     "data": {
      "text/html": [
       "<div>\n",
       "<style scoped>\n",
       "    .dataframe tbody tr th:only-of-type {\n",
       "        vertical-align: middle;\n",
       "    }\n",
       "\n",
       "    .dataframe tbody tr th {\n",
       "        vertical-align: top;\n",
       "    }\n",
       "\n",
       "    .dataframe thead th {\n",
       "        text-align: right;\n",
       "    }\n",
       "</style>\n",
       "<table border=\"1\" class=\"dataframe\">\n",
       "  <thead>\n",
       "    <tr style=\"text-align: right;\">\n",
       "      <th></th>\n",
       "      <th>Year</th>\n",
       "      <th>POP</th>\n",
       "    </tr>\n",
       "  </thead>\n",
       "  <tbody>\n",
       "    <tr>\n",
       "      <th>0</th>\n",
       "      <td>1960</td>\n",
       "      <td>946600.0</td>\n",
       "    </tr>\n",
       "    <tr>\n",
       "      <th>1</th>\n",
       "      <td>1962</td>\n",
       "      <td>968300.0</td>\n",
       "    </tr>\n",
       "    <tr>\n",
       "      <th>2</th>\n",
       "      <td>1964</td>\n",
       "      <td>988500.0</td>\n",
       "    </tr>\n",
       "  </tbody>\n",
       "</table>\n",
       "</div>"
      ],
      "text/plain": [
       "   Year       POP\n",
       "0  1960  946600.0\n",
       "1  1962  968300.0\n",
       "2  1964  988500.0"
      ]
     },
     "execution_count": 9,
     "metadata": {},
     "output_type": "execute_result"
    }
   ],
   "source": [
    "df_mml = common.get_mml_data(REGION)\n",
    "df_mml = df_mml[['Year',MML_VARIABLE_ANALYZED]]\n",
    "df_mml = df_mml[df_mml.Year <= 2020]\n",
    "# According to truth dataset, population values are expressed in thousands, so 1 in truth is actually 1000.\n",
    "df_mml[MML_VARIABLE_ANALYZED] = df_mml[MML_VARIABLE_ANALYZED] / 1000 \n",
    "df_mml[0:3]"
   ]
  },
  {
   "cell_type": "markdown",
   "id": "5b98002d-c57a-49c4-b1dc-c3543ed3008e",
   "metadata": {},
   "source": [
    "Ok, that was easy. Back to truth df. \n",
    "We need to transpose df, get only even years and group by some condition"
   ]
  },
  {
   "cell_type": "code",
   "execution_count": 10,
   "id": "16f38d0c-97e7-49ae-8ba2-5f421d8c9a23",
   "metadata": {},
   "outputs": [],
   "source": [
    "df_T = df_truth.set_index('Location').T\n",
    "df_T = df_T.reset_index().rename(columns={\"index\": \"Year\"})\n",
    "\n",
    "\n",
    "df_truth = df_T.astype({'Year': 'int64'})\n",
    "df_truth['sum'] = df_truth.iloc[:, 1:len(common.regions[REGION]['countries'])+1].sum(axis=1)\n",
    "df_truth_aggs = df_truth[['Year','sum']]"
   ]
  },
  {
   "cell_type": "code",
   "execution_count": 11,
   "id": "740dca3d-091a-4858-9805-17fa322cf093",
   "metadata": {},
   "outputs": [
    {
     "data": {
      "text/html": [
       "<div>\n",
       "<style scoped>\n",
       "    .dataframe tbody tr th:only-of-type {\n",
       "        vertical-align: middle;\n",
       "    }\n",
       "\n",
       "    .dataframe tbody tr th {\n",
       "        vertical-align: top;\n",
       "    }\n",
       "\n",
       "    .dataframe thead th {\n",
       "        text-align: right;\n",
       "    }\n",
       "</style>\n",
       "<table border=\"1\" class=\"dataframe\">\n",
       "  <thead>\n",
       "    <tr style=\"text-align: right;\">\n",
       "      <th></th>\n",
       "      <th>Year</th>\n",
       "      <th>mml_value</th>\n",
       "      <th>truth_value</th>\n",
       "    </tr>\n",
       "  </thead>\n",
       "  <tbody>\n",
       "    <tr>\n",
       "      <th>0</th>\n",
       "      <td>1970</td>\n",
       "      <td>1038000.0</td>\n",
       "      <td>1059222</td>\n",
       "    </tr>\n",
       "    <tr>\n",
       "      <th>1</th>\n",
       "      <td>1972</td>\n",
       "      <td>1050000.0</td>\n",
       "      <td>1077909</td>\n",
       "    </tr>\n",
       "    <tr>\n",
       "      <th>2</th>\n",
       "      <td>1974</td>\n",
       "      <td>1062000.0</td>\n",
       "      <td>1096301</td>\n",
       "    </tr>\n",
       "  </tbody>\n",
       "</table>\n",
       "</div>"
      ],
      "text/plain": [
       "   Year  mml_value  truth_value\n",
       "0  1970  1038000.0      1059222\n",
       "1  1972  1050000.0      1077909\n",
       "2  1974  1062000.0      1096301"
      ]
     },
     "execution_count": 11,
     "metadata": {},
     "output_type": "execute_result"
    }
   ],
   "source": [
    "df = pd.merge(df_mml,df_truth_aggs,on='Year').rename(columns={\"POP\": \"mml_value\", \"sum\":\"truth_value\"})\n",
    "df[0:3]"
   ]
  },
  {
   "cell_type": "raw",
   "id": "085e9437-d3ba-432c-9f79-01100beff40f",
   "metadata": {},
   "source": [
    "Let's plot, calculate errors and that stuff"
   ]
  },
  {
   "cell_type": "code",
   "execution_count": 12,
   "id": "da74d27c-5063-41ea-8f82-9d4920f3883b",
   "metadata": {},
   "outputs": [
    {
     "data": {
      "image/png": "[encoded data removed]",
      "text/plain": [
       "<Figure size 1296x720 with 1 Axes>"
      ]
     },
     "metadata": {
      "needs_background": "light"
     },
     "output_type": "display_data"
    }
   ],
   "source": [
    "\n",
    "common.compare_mml_vs_truth_line_plot(df, 'Year', 'mml_value', 'truth_value', f\"{MML_VARIABLE_ANALYZED}*1000\", REGION)"
   ]
  },
  {
   "cell_type": "markdown",
   "id": "3da546fd-4998-4f82-94b4-54e6ccc476a0",
   "metadata": {},
   "source": [
    "As we see in the graph, from 1988, mml stops growing as the truth continues the original tendence.\n",
    "\n",
    "### 1970 - 1988\n",
    "\n",
    "So, let's take only from 1970-1988"
   ]
  },
  {
   "cell_type": "raw",
   "id": "8c77ba4f-6392-4b77-95fb-0ab3ea352b5c",
   "metadata": {},
   "source": [
    "df_1988 = df[df['Year']<=1988]\n",
    "common.compare_mml_vs_truth_line_plot(df_1988, 'Year', 'mml_value', 'truth_value', MML_VARIABLE_ANALYZED, REGION)"
   ]
  },
  {
   "cell_type": "markdown",
   "id": "742e5354-8d5d-4bd1-b4d1-e94ff1af4cbb",
   "metadata": {},
   "source": [
    "Mean seems to be quite accurate in that interval"
   ]
  },
  {
   "cell_type": "markdown",
   "id": "a51a78ba-b20d-4733-8f71-f1dc0408c866",
   "metadata": {},
   "source": [
    "### Error visualization"
   ]
  },
  {
   "cell_type": "code",
   "execution_count": 13,
   "id": "2d13b2f2-1f0d-4fcd-9b57-3ae141a18e81",
   "metadata": {},
   "outputs": [
    {
     "data": {
      "image/png": "[encoded data removed]",
      "text/plain": [
       "<Figure size 1296x576 with 1 Axes>"
      ]
     },
     "metadata": {
      "needs_background": "light"
     },
     "output_type": "display_data"
    }
   ],
   "source": [
    "common.compute_porcentual_diff_between_truth_and_mml(df, 'mml_value', 'truth_value')\n",
    "common.porcentual_diff_plot(df,MML_VARIABLE_ANALYZED, REGION, years_filtered, np.arange(-20,21,5))"
   ]
  },
  {
   "cell_type": "code",
   "execution_count": 14,
   "id": "b2425d1b-1a49-43fb-a5e7-c063bd227788",
   "metadata": {},
   "outputs": [],
   "source": [
    "common.save_porcentual_diff_to_excel_for_variable(df, MML_VARIABLE_ANALYZED, REGION)"
   ]
  }
 ],
 "metadata": {
  "kernelspec": {
   "display_name": "Python 3 (ipykernel)",
   "language": "python",
   "name": "python3"
  },
  "language_info": {
   "codemirror_mode": {
    "name": "ipython",
    "version": 3
   },
   "file_extension": ".py",
   "mimetype": "text/x-python",
   "name": "python",
   "nbconvert_exporter": "python",
   "pygments_lexer": "ipython3",
   "version": "3.8.10"
  }
 },
 "nbformat": 4,
 "nbformat_minor": 5
}
