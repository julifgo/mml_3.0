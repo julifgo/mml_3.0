{
 "cells": [
  {
   "cell_type": "code",
   "execution_count": null,
   "id": "abe15e36-aaef-4c08-9f09-883fe121bda0",
   "metadata": {},
   "outputs": [],
   "source": [
    "import pandas as pd\n",
    "import numpy as np\n",
    "#Load common functions\n",
    "import ipynb.fs.full.common as common"
   ]
  },
  {
   "cell_type": "code",
   "execution_count": null,
   "id": "c3bfb361-c0cd-4cb8-8552-46458c5c4e07",
   "metadata": {},
   "outputs": [],
   "source": [
    "MML_VARIABLE_ANALYZED = 'POP'\n",
    "REGION = \"LAM\""
   ]
  },
  {
   "cell_type": "code",
   "execution_count": null,
   "id": "60916650-ac0d-42b0-a093-efd193e79f63",
   "metadata": {},
   "outputs": [],
   "source": [
    "df = pd.read_excel(f\"data/{REGION}/AnnualTotPopMidYear-20221027061003.xlsx\", sheet_name='Data')\n",
    "#Annual Total Population at Mid-Year (thousands)\n",
    "df[0:5]"
   ]
  },
  {
   "cell_type": "code",
   "execution_count": null,
   "id": "600ff56c-eade-4882-8de5-044f33679d48",
   "metadata": {},
   "outputs": [],
   "source": [
    "del df['ISO 3166-1 numeric code']\n",
    "del df['Note']\n",
    "df.columns = df.columns.astype(str)\n",
    "df['Location'] = df['Location'].str.strip()\n"
   ]
  },
  {
   "cell_type": "code",
   "execution_count": null,
   "id": "0b77ccad-1491-4329-9785-a1b4a4f29dab",
   "metadata": {},
   "outputs": [],
   "source": [
    "def fix_countries_for_region(df, region=REGION):\n",
    "    '''Matc h country column name in dataset with MML dict of country names for region.\n",
    "    Unfortunately, it's a manual job. We know which names are missing according to MML, but we don't how the truth dataset named that country (if exists at all).\n",
    "    \n",
    "    '''\n",
    "    if region == 'DEVELOPED':\n",
    "        fix_countries_for_developed(df)\n",
    "    if region == 'LAM':\n",
    "        fix_countries_for_lam(df)\n",
    "def fix_countries_for_developed(df):\n",
    "    common.replace_value_in_column(df,'Location','Tajikistan','Tayikistan')\n",
    "    common.replace_value_in_column(df,'Location','Lebanon','Libano')\n",
    "    common.replace_value_in_column(df,'Location','Bosnia and Herzegovina','Bosnia y Herzegovina')\n",
    "    common.replace_value_in_column(df,'Location','Japan','Japon')\n",
    "    common.replace_value_in_column(df,'Location','Kyrgyzstan','Kirguistan')\n",
    "    common.replace_value_in_column(df,'Location', 'Ukraine', 'Ucrania')\n",
    "    common.replace_value_in_column(df,'Location','Czechia','Republica Checa')\n",
    "    common.replace_value_in_column(df,'Location','Finland','Finlandia')\n",
    "    common.replace_value_in_column(df,'Location','Denmark','Dinamarca')\n",
    "    common.replace_value_in_column(df,'Location','Spain','España')\n",
    "    common.replace_value_in_column(df,'Location','United States of America','EEUU')\n",
    "    common.replace_value_in_column(df,'Location','Norway','Noruega')\n",
    "    common.replace_value_in_column(df,'Location','Belgium','Belgica')\n",
    "    common.replace_value_in_column(df,'Location','Hungary','Hungria')\n",
    "    common.replace_value_in_column(df,'Location','Russian Federation','Rusia')\n",
    "    common.replace_value_in_column(df,'Location','Switzerland','Suiza')\n",
    "    common.replace_value_in_column(df,'Location','France','Francia')\n",
    "    common.replace_value_in_column(df,'Location','Poland','Polonia')\n",
    "    common.replace_value_in_column(df,'Location','Ireland','Irlanda')\n",
    "    common.replace_value_in_column(df,'Location','Slovenia','Eslovenia')\n",
    "    common.replace_value_in_column(df,'Location','Greece','Grecia')\n",
    "    common.replace_value_in_column(df,'Location','Romania','Rumania')\n",
    "    common.replace_value_in_column(df,'Location','Sweden','Suecia')\n",
    "    common.replace_value_in_column(df,'Location','Croatia','Croacia')\n",
    "    common.replace_value_in_column(df,'Location','Netherlands','Paises Bajos')\n",
    "    common.replace_value_in_column(df,'Location','Latvia','Letonia')\n",
    "    common.replace_value_in_column(df,'Location','Kazakhstan','Kazajistan')\n",
    "    common.replace_value_in_column(df,'Location','Lithuania','Lituania')\n",
    "    common.replace_value_in_column(df,'Location','United Kingdom','Reino Unido')\n",
    "    common.replace_value_in_column(df,'Location','TFYR Macedonia','Macedonia')\n",
    "    common.replace_value_in_column(df,'Location','Germany','Alemania')\n",
    "    common.replace_value_in_column(df,'Location','Italy','Italia')\n",
    "    common.replace_value_in_column(df,'Location','New Zealand','Nueva Zelanda')\n",
    "    common.replace_value_in_column(df,'Location','Belarus','Bielorrusia')\n",
    "    common.replace_value_in_column(df,'Location','Republic of Moldova','Moldavia')\n",
    "    common.replace_value_in_column(df,'Location','Slovakia','Eslovaquia')\n",
    "    common.replace_value_in_column(df,'Location','Azerbaijan','Azerbaiyan')\n",
    "    \n",
    "def fix_countries_for_lam(df):\n",
    "    common.replace_value_in_column(df, 'Location', 'Venezuela (Bolivarian Republic of)','Venezuela')\n",
    "    common.replace_value_in_column(df, 'Location', 'Bolivia (Plurinational State of)','Bolivia')    \n",
    "    common.replace_value_in_column(df, 'Location', 'Dominican Republic', 'Republica Dominicana')\n",
    "    common.replace_value_in_column(df, 'Location', 'Trinidad and Tobago', 'Trinidad y Tobago')"
   ]
  },
  {
   "cell_type": "code",
   "execution_count": null,
   "id": "6d17f1c9-b62b-4cda-b758-723d66bc67ea",
   "metadata": {},
   "outputs": [],
   "source": [
    "print(\"Missing countries for region\")\n",
    "print(common.get_missing_countries_for_region(df, 'Location', REGION))\n",
    "#Actually, they are not missing, they have a different value\n",
    "fix_countries_for_region(df)\n",
    "print(\"Missing countries for region after fix\")\n",
    "print(common.get_missing_countries_for_region(df, 'Location', REGION))"
   ]
  },
  {
   "cell_type": "code",
   "execution_count": null,
   "id": "7374f984-60c3-4c59-a128-9417a183fa6a",
   "metadata": {},
   "outputs": [],
   "source": [
    "df_truth = common.get_countries_for_region(df, 'Location', REGION)\n",
    "assert len(df_truth) == len(common.regions[REGION]['countries']), 'MISSING COUNTRIES FOR REGION'"
   ]
  },
  {
   "cell_type": "code",
   "execution_count": null,
   "id": "0ff767a7-99eb-4a22-9ed1-b9e3b8da3bf4",
   "metadata": {},
   "outputs": [],
   "source": [
    "years_filtered = np.arange(1970,2020,2) \n",
    "columns_filter = np.append(['Location'],years_filtered)\n",
    "\n",
    "df_truth = df_truth[columns_filter]\n",
    "assert 0 == df_truth.isna().sum().sum(), \"MISSING VALUES. CONSIDER FILL STRATEGY\" #If 0, then we don't have missing values.\n",
    "assert not (df_truth == 0).any().any(), \"CELLS WITH 0\" "
   ]
  },
  {
   "cell_type": "markdown",
   "id": "fdb98c64-ddd3-4480-9596-c18c4532aa0e",
   "metadata": {},
   "source": [
    "Finally, we got our truth dataframe. Now, MML"
   ]
  },
  {
   "cell_type": "code",
   "execution_count": null,
   "id": "8bcee822-002c-4c03-8e78-08b941c5937b",
   "metadata": {},
   "outputs": [],
   "source": [
    "df_mml = common.get_mml_data(REGION)\n",
    "df_mml = df_mml[['Year',MML_VARIABLE_ANALYZED]]\n",
    "df_mml = df_mml[df_mml.Year <= 2020]\n",
    "# According to truth dataset, population values are expressed in thousands, so 1 in truth is actually 1000.\n",
    "df_mml[MML_VARIABLE_ANALYZED] = df_mml[MML_VARIABLE_ANALYZED] / 1000 \n",
    "df_mml[0:3]"
   ]
  },
  {
   "cell_type": "markdown",
   "id": "5b98002d-c57a-49c4-b1dc-c3543ed3008e",
   "metadata": {},
   "source": [
    "Ok, that was easy. Back to truth df. \n",
    "We need to transpose df, get only even years and group by some condition"
   ]
  },
  {
   "cell_type": "code",
   "execution_count": null,
   "id": "16f38d0c-97e7-49ae-8ba2-5f421d8c9a23",
   "metadata": {},
   "outputs": [],
   "source": [
    "df_T = df_truth.set_index('Location').T\n",
    "df_T = df_T.reset_index().rename(columns={\"index\": \"Year\"})\n",
    "\n",
    "\n",
    "df_truth = df_T.astype({'Year': 'int64'})\n",
    "df_truth['sum'] = df_truth.iloc[:, 1:len(common.regions[REGION]['countries'])+1].sum(axis=1)\n",
    "df_truth_aggs = df_truth[['Year','sum']]"
   ]
  },
  {
   "cell_type": "code",
   "execution_count": null,
   "id": "740dca3d-091a-4858-9805-17fa322cf093",
   "metadata": {},
   "outputs": [],
   "source": [
    "df = pd.merge(df_mml,df_truth_aggs,on='Year').rename(columns={\"POP\": \"mml_value\", \"sum\":\"truth_value\"})\n",
    "df[0:3]"
   ]
  },
  {
   "cell_type": "raw",
   "id": "085e9437-d3ba-432c-9f79-01100beff40f",
   "metadata": {},
   "source": [
    "Let's plot, calculate errors and that stuff"
   ]
  },
  {
   "cell_type": "code",
   "execution_count": null,
   "id": "da74d27c-5063-41ea-8f82-9d4920f3883b",
   "metadata": {},
   "outputs": [],
   "source": [
    "\n",
    "common.compare_mml_vs_truth_line_plot(df, 'Year', 'mml_value', 'truth_value', f\"{MML_VARIABLE_ANALYZED}*1000\", REGION)"
   ]
  },
  {
   "cell_type": "markdown",
   "id": "3da546fd-4998-4f82-94b4-54e6ccc476a0",
   "metadata": {},
   "source": [
    "As we see in the graph, from 1988, mml stops growing as the truth continues the original tendence.\n",
    "\n",
    "### 1970 - 1988\n",
    "\n",
    "So, let's take only from 1970-1988"
   ]
  },
  {
   "cell_type": "raw",
   "id": "8c77ba4f-6392-4b77-95fb-0ab3ea352b5c",
   "metadata": {},
   "source": [
    "df_1988 = df[df['Year']<=1988]\n",
    "common.compare_mml_vs_truth_line_plot(df_1988, 'Year', 'mml_value', 'truth_value', MML_VARIABLE_ANALYZED, REGION)"
   ]
  },
  {
   "cell_type": "markdown",
   "id": "742e5354-8d5d-4bd1-b4d1-e94ff1af4cbb",
   "metadata": {},
   "source": [
    "Mean seems to be quite accurate in that interval"
   ]
  },
  {
   "cell_type": "markdown",
   "id": "a51a78ba-b20d-4733-8f71-f1dc0408c866",
   "metadata": {},
   "source": [
    "### Error visualization"
   ]
  },
  {
   "cell_type": "code",
   "execution_count": null,
   "id": "2d13b2f2-1f0d-4fcd-9b57-3ae141a18e81",
   "metadata": {},
   "outputs": [],
   "source": [
    "common.compute_porcentual_diff_between_truth_and_mml(df, 'mml_value', 'truth_value')\n",
    "common.porcentual_diff_plot(df,MML_VARIABLE_ANALYZED, REGION, years_filtered, np.arange(-20,21,5))"
   ]
  },
  {
   "cell_type": "code",
   "execution_count": null,
   "id": "b2425d1b-1a49-43fb-a5e7-c063bd227788",
   "metadata": {},
   "outputs": [],
   "source": [
    "common.save_porcentual_diff_to_excel_for_variable(df, MML_VARIABLE_ANALYZED, REGION)"
   ]
  }
 ],
 "metadata": {
  "kernelspec": {
   "display_name": "Python 3 (ipykernel)",
   "language": "python",
   "name": "python3"
  },
  "language_info": {
   "codemirror_mode": {
    "name": "ipython",
    "version": 3
   },
   "file_extension": ".py",
   "mimetype": "text/x-python",
   "name": "python",
   "nbconvert_exporter": "python",
   "pygments_lexer": "ipython3",
   "version": "3.8.10"
  }
 },
 "nbformat": 4,
 "nbformat_minor": 5
}
