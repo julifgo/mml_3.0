{
 "cells": [
  {
   "cell_type": "code",
   "execution_count": null,
   "id": "abe15e36-aaef-4c08-9f09-883fe121bda0",
   "metadata": {},
   "outputs": [],
   "source": [
    "import pandas as pd\n",
    "import numpy as np"
   ]
  },
  {
   "cell_type": "code",
   "execution_count": 2,
   "id": "4c0bb2d1-a487-4e37-b702-c6559ed51cda",
   "metadata": {},
   "outputs": [],
   "source": [
    "#Load common functions\n",
    "import ipynb.fs.full.common as common"
   ]
  },
  {
   "cell_type": "code",
   "execution_count": null,
   "id": "c3bfb361-c0cd-4cb8-8552-46458c5c4e07",
   "metadata": {},
   "outputs": [],
   "source": [
    "MML_VARIABLE_ANALYZED = 'POP'\n",
    "REGION = \"LAM\""
   ]
  },
  {
   "cell_type": "code",
   "execution_count": null,
   "id": "60916650-ac0d-42b0-a093-efd193e79f63",
   "metadata": {},
   "outputs": [],
   "source": [
    "df = pd.read_excel(f\"data/{REGION}/UN-AnnualTotPopMidYear-20220717021110.xlsx\", sheet_name='Data')\n",
    "#Annual Total Population at Mid-Year (thousands)\n",
    "df[0:5]"
   ]
  },
  {
   "cell_type": "code",
   "execution_count": 5,
   "id": "600ff56c-eade-4882-8de5-044f33679d48",
   "metadata": {},
   "outputs": [
    {
     "data": {
      "text/html": [
       "<div>\n",
       "<style scoped>\n",
       "    .dataframe tbody tr th:only-of-type {\n",
       "        vertical-align: middle;\n",
       "    }\n",
       "\n",
       "    .dataframe tbody tr th {\n",
       "        vertical-align: top;\n",
       "    }\n",
       "\n",
       "    .dataframe thead th {\n",
       "        text-align: right;\n",
       "    }\n",
       "</style>\n",
       "<table border=\"1\" class=\"dataframe\">\n",
       "  <thead>\n",
       "    <tr style=\"text-align: right;\">\n",
       "      <th></th>\n",
       "      <th>Location</th>\n",
       "      <th>1960</th>\n",
       "      <th>1962</th>\n",
       "      <th>1964</th>\n",
       "      <th>1966</th>\n",
       "      <th>1968</th>\n",
       "      <th>1970</th>\n",
       "      <th>1972</th>\n",
       "      <th>1974</th>\n",
       "      <th>1976</th>\n",
       "      <th>...</th>\n",
       "      <th>2002</th>\n",
       "      <th>2004</th>\n",
       "      <th>2006</th>\n",
       "      <th>2008</th>\n",
       "      <th>2010</th>\n",
       "      <th>2012</th>\n",
       "      <th>2014</th>\n",
       "      <th>2016</th>\n",
       "      <th>2018</th>\n",
       "      <th>2020</th>\n",
       "    </tr>\n",
       "  </thead>\n",
       "  <tbody>\n",
       "    <tr>\n",
       "      <th>0</th>\n",
       "      <td>World</td>\n",
       "      <td>NaN</td>\n",
       "      <td>NaN</td>\n",
       "      <td>NaN</td>\n",
       "      <td>NaN</td>\n",
       "      <td>NaN</td>\n",
       "      <td>NaN</td>\n",
       "      <td>NaN</td>\n",
       "      <td>NaN</td>\n",
       "      <td>NaN</td>\n",
       "      <td>...</td>\n",
       "      <td>NaN</td>\n",
       "      <td>NaN</td>\n",
       "      <td>NaN</td>\n",
       "      <td>NaN</td>\n",
       "      <td>NaN</td>\n",
       "      <td>NaN</td>\n",
       "      <td>NaN</td>\n",
       "      <td>NaN</td>\n",
       "      <td>NaN</td>\n",
       "      <td>NaN</td>\n",
       "    </tr>\n",
       "    <tr>\n",
       "      <th>1</th>\n",
       "      <td>Latin America and the Caribbean</td>\n",
       "      <td>221051.0</td>\n",
       "      <td>233538.0</td>\n",
       "      <td>246673.0</td>\n",
       "      <td>260149.0</td>\n",
       "      <td>273914.0</td>\n",
       "      <td>288077.0</td>\n",
       "      <td>302686.0</td>\n",
       "      <td>317667.0</td>\n",
       "      <td>332930.0</td>\n",
       "      <td>...</td>\n",
       "      <td>540354.0</td>\n",
       "      <td>554541.0</td>\n",
       "      <td>568819.0</td>\n",
       "      <td>583222.0</td>\n",
       "      <td>597562.0</td>\n",
       "      <td>611714.0</td>\n",
       "      <td>625594.0</td>\n",
       "      <td>639049.0</td>\n",
       "      <td>652012.0</td>\n",
       "      <td>664474.0</td>\n",
       "    </tr>\n",
       "    <tr>\n",
       "      <th>2</th>\n",
       "      <td>Caribbean</td>\n",
       "      <td>20723.0</td>\n",
       "      <td>21643.0</td>\n",
       "      <td>22610.0</td>\n",
       "      <td>23539.0</td>\n",
       "      <td>24419.0</td>\n",
       "      <td>25310.0</td>\n",
       "      <td>26244.0</td>\n",
       "      <td>27186.0</td>\n",
       "      <td>28081.0</td>\n",
       "      <td>...</td>\n",
       "      <td>39114.0</td>\n",
       "      <td>39787.0</td>\n",
       "      <td>40442.0</td>\n",
       "      <td>41084.0</td>\n",
       "      <td>41725.0</td>\n",
       "      <td>42371.0</td>\n",
       "      <td>43006.0</td>\n",
       "      <td>43602.0</td>\n",
       "      <td>44155.0</td>\n",
       "      <td>44679.0</td>\n",
       "    </tr>\n",
       "    <tr>\n",
       "      <th>3</th>\n",
       "      <td>Anguilla</td>\n",
       "      <td>6.0</td>\n",
       "      <td>6.0</td>\n",
       "      <td>6.0</td>\n",
       "      <td>6.0</td>\n",
       "      <td>6.0</td>\n",
       "      <td>6.0</td>\n",
       "      <td>7.0</td>\n",
       "      <td>7.0</td>\n",
       "      <td>7.0</td>\n",
       "      <td>...</td>\n",
       "      <td>12.0</td>\n",
       "      <td>12.0</td>\n",
       "      <td>13.0</td>\n",
       "      <td>13.0</td>\n",
       "      <td>14.0</td>\n",
       "      <td>14.0</td>\n",
       "      <td>14.0</td>\n",
       "      <td>15.0</td>\n",
       "      <td>15.0</td>\n",
       "      <td>15.0</td>\n",
       "    </tr>\n",
       "    <tr>\n",
       "      <th>4</th>\n",
       "      <td>Antigua and Barbuda</td>\n",
       "      <td>55.0</td>\n",
       "      <td>57.0</td>\n",
       "      <td>60.0</td>\n",
       "      <td>62.0</td>\n",
       "      <td>65.0</td>\n",
       "      <td>67.0</td>\n",
       "      <td>69.0</td>\n",
       "      <td>71.0</td>\n",
       "      <td>72.0</td>\n",
       "      <td>...</td>\n",
       "      <td>86.0</td>\n",
       "      <td>88.0</td>\n",
       "      <td>90.0</td>\n",
       "      <td>92.0</td>\n",
       "      <td>95.0</td>\n",
       "      <td>97.0</td>\n",
       "      <td>99.0</td>\n",
       "      <td>101.0</td>\n",
       "      <td>103.0</td>\n",
       "      <td>105.0</td>\n",
       "    </tr>\n",
       "  </tbody>\n",
       "</table>\n",
       "<p>5 rows × 32 columns</p>\n",
       "</div>"
      ],
      "text/plain": [
       "                          Location      1960      1962      1964      1966  \\\n",
       "0                            World       NaN       NaN       NaN       NaN   \n",
       "1  Latin America and the Caribbean  221051.0  233538.0  246673.0  260149.0   \n",
       "2                        Caribbean   20723.0   21643.0   22610.0   23539.0   \n",
       "3                         Anguilla       6.0       6.0       6.0       6.0   \n",
       "4              Antigua and Barbuda      55.0      57.0      60.0      62.0   \n",
       "\n",
       "       1968      1970      1972      1974      1976  ...      2002      2004  \\\n",
       "0       NaN       NaN       NaN       NaN       NaN  ...       NaN       NaN   \n",
       "1  273914.0  288077.0  302686.0  317667.0  332930.0  ...  540354.0  554541.0   \n",
       "2   24419.0   25310.0   26244.0   27186.0   28081.0  ...   39114.0   39787.0   \n",
       "3       6.0       6.0       7.0       7.0       7.0  ...      12.0      12.0   \n",
       "4      65.0      67.0      69.0      71.0      72.0  ...      86.0      88.0   \n",
       "\n",
       "       2006      2008      2010      2012      2014      2016      2018  \\\n",
       "0       NaN       NaN       NaN       NaN       NaN       NaN       NaN   \n",
       "1  568819.0  583222.0  597562.0  611714.0  625594.0  639049.0  652012.0   \n",
       "2   40442.0   41084.0   41725.0   42371.0   43006.0   43602.0   44155.0   \n",
       "3      13.0      13.0      14.0      14.0      14.0      15.0      15.0   \n",
       "4      90.0      92.0      95.0      97.0      99.0     101.0     103.0   \n",
       "\n",
       "       2020  \n",
       "0       NaN  \n",
       "1  664474.0  \n",
       "2   44679.0  \n",
       "3      15.0  \n",
       "4     105.0  \n",
       "\n",
       "[5 rows x 32 columns]"
      ]
     },
     "execution_count": 5,
     "metadata": {},
     "output_type": "execute_result"
    }
   ],
   "source": [
    "del df['ISO 3166-1 numeric code']\n",
    "del df['Note']\n",
    "df.columns = df.columns.astype(str)\n",
    "df['Location'] = df['Location'].str.strip()\n",
    "df[0:5]"
   ]
  },
  {
   "cell_type": "code",
   "execution_count": null,
   "id": "6d17f1c9-b62b-4cda-b758-723d66bc67ea",
   "metadata": {},
   "outputs": [],
   "source": [
    "print(\"Missing countries for region\")\n",
    "print(common.get_missing_countries_for_region(df, 'Location', REGION))\n",
    "#Actually, they are not missing, they have a different value\n",
    "common.replace_value_in_column(df, 'Location', 'Venezuela (Bolivarian Republic of)','Venezuela')\n",
    "common.replace_value_in_column(df, 'Location', 'Bolivia (Plurinational State of)','Bolivia')\n",
    "print(\"Missing countries for region after fix\")\n",
    "print(common.get_missing_countries_for_region(df, 'Location'))"
   ]
  },
  {
   "cell_type": "code",
   "execution_count": 6,
   "id": "2b16c695-07d6-4283-a7b9-b89bc9dff5cd",
   "metadata": {},
   "outputs": [
    {
     "name": "stdout",
     "output_type": "stream",
     "text": [
      "Missing countries for region\n",
      "{'Dinamarca', 'Reino Unido', 'Republica Checa', 'Polonia', 'Alemania', 'Libano', 'Azerbaiyan', 'Israel', 'Turkmenistan', 'Croacia', 'España', 'Armenia', 'Australia', 'EEUU', 'Noruega', 'Rusia', 'Ucrania', 'Canada', 'Irlanda', 'Hungria', 'Esloveniagit', 'Kazajistan', 'Georgia', 'Bosnia y Herzegovina', 'Nueva Zelanda', 'Austria', 'Suecia', 'Bielorrusia', 'Francia', 'Rumania', 'Macedonia', 'Italia', 'Uzbekistan', 'Estonia', 'Eslovaquia', 'Montenegro', 'Serbia', 'Suiza', 'Finlandia', 'Japon', 'Paises Bajos', 'Tayikistan', 'Letonia', 'Belgica', 'Kirguistan', 'Moldavia', 'Portugal', 'Grecia', 'Lituania', 'Bulgaria'}\n"
     ]
    }
   ],
   "source": [
    "print(\"Missing countries for region\")\n",
    "print(common.get_missing_countries_for_region(df, 'Location', REGION))\n"
   ]
  },
  {
   "cell_type": "code",
   "execution_count": null,
   "id": "7374f984-60c3-4c59-a128-9417a183fa6a",
   "metadata": {},
   "outputs": [],
   "source": [
    "df_truth = common.get_countries_for_region(df, 'Location', REGION)\n",
    "assert len(df_truth) == len(common.regions[REGION]['countries']), 'MISSING COUNTRIES FOR REGION'"
   ]
  },
  {
   "cell_type": "code",
   "execution_count": null,
   "id": "0ff767a7-99eb-4a22-9ed1-b9e3b8da3bf4",
   "metadata": {},
   "outputs": [],
   "source": [
    "years_filtered = np.arange(1970,2020,2) \n",
    "columns_filter = np.append(['Location'],years_filtered)\n",
    "\n",
    "df_truth = df_truth[columns_filter]\n",
    "assert 0 == df_truth.isna().sum().sum(), \"MISSING VALUES. CONSIDER FILL STRATEGY\" #If 0, then we don't have missing values."
   ]
  },
  {
   "cell_type": "markdown",
   "id": "fdb98c64-ddd3-4480-9596-c18c4532aa0e",
   "metadata": {},
   "source": [
    "Finally, we got our truth dataframe. Now, MML"
   ]
  },
  {
   "cell_type": "code",
   "execution_count": null,
   "id": "8bcee822-002c-4c03-8e78-08b941c5937b",
   "metadata": {},
   "outputs": [],
   "source": [
    "df_mml = common.get_mml_data()\n",
    "df_mml = df_mml[['Year',MML_VARIABLE_ANALYZED]]\n",
    "df_mml = df_mml[df_mml.Year <= 2020]\n",
    "# According to truth dataset, population values are expressed in thousands, so 1 in truth is actually 1000.\n",
    "df_mml[MML_VARIABLE_ANALYZED] = df_mml[MML_VARIABLE_ANALYZED] / 1000 \n",
    "df_mml[0:3]"
   ]
  },
  {
   "cell_type": "markdown",
   "id": "5b98002d-c57a-49c4-b1dc-c3543ed3008e",
   "metadata": {},
   "source": [
    "Ok, that was easy. Back to truth df. \n",
    "We need to transpose df, get only even years and group by some condition"
   ]
  },
  {
   "cell_type": "code",
   "execution_count": null,
   "id": "16f38d0c-97e7-49ae-8ba2-5f421d8c9a23",
   "metadata": {},
   "outputs": [],
   "source": [
    "df_T = df_truth.set_index('Location').T\n",
    "df_T = df_T.reset_index().rename(columns={\"index\": \"Year\"})\n",
    "\n",
    "\n",
    "df_truth = df_T.astype({'Year': 'int64'})\n",
    "df_truth['sum'] = df_truth.iloc[:, 1:len(common.regions[REGION]['countries'])+1].sum(axis=1)\n",
    "df_truth_aggs = df_truth[['Year','sum']]"
   ]
  },
  {
   "cell_type": "code",
   "execution_count": null,
   "id": "740dca3d-091a-4858-9805-17fa322cf093",
   "metadata": {},
   "outputs": [],
   "source": [
    "df = pd.merge(df_mml,df_truth_aggs,on='Year').rename(columns={\"POP\": \"mml_value\", \"sum\":\"truth_value\"})\n",
    "df[0:3]"
   ]
  },
  {
   "cell_type": "raw",
   "id": "085e9437-d3ba-432c-9f79-01100beff40f",
   "metadata": {},
   "source": [
    "Let's plot, calculate errors and that stuff"
   ]
  },
  {
   "cell_type": "code",
   "execution_count": null,
   "id": "da74d27c-5063-41ea-8f82-9d4920f3883b",
   "metadata": {},
   "outputs": [],
   "source": [
    "\n",
    "common.compare_mml_vs_truth_line_plot(df, 'Year', 'mml_value', 'truth_value', MML_VARIABLE_ANALYZED, REGION)"
   ]
  },
  {
   "cell_type": "markdown",
   "id": "3da546fd-4998-4f82-94b4-54e6ccc476a0",
   "metadata": {},
   "source": [
    "As we see in the graph, from 1988, mml stops growing as the truth continues the original tendence.\n",
    "\n",
    "### 1970 - 1988\n",
    "\n",
    "So, let's take only from 1970-1988"
   ]
  },
  {
   "cell_type": "code",
   "execution_count": null,
   "id": "e5987b75-9dc8-4ec1-a0e4-d664c087eafa",
   "metadata": {},
   "outputs": [],
   "source": [
    "df_1988 = df[df['Year']<=1988]\n",
    "common.compare_mml_vs_truth_line_plot(df_1988, 'Year', 'mml_value', 'truth_value', MML_VARIABLE_ANALYZED, REGION)"
   ]
  },
  {
   "cell_type": "markdown",
   "id": "742e5354-8d5d-4bd1-b4d1-e94ff1af4cbb",
   "metadata": {},
   "source": [
    "Mean seems to be quite accurate in that interval"
   ]
  },
  {
   "cell_type": "markdown",
   "id": "a51a78ba-b20d-4733-8f71-f1dc0408c866",
   "metadata": {},
   "source": [
    "### Error visualization"
   ]
  },
  {
   "cell_type": "code",
   "execution_count": null,
   "id": "2d13b2f2-1f0d-4fcd-9b57-3ae141a18e81",
   "metadata": {},
   "outputs": [],
   "source": [
    "common.compute_porcentual_diff_between_truth_and_mml(df, 'mml_value', 'truth_value')\n",
    "common.porcentual_diff_plot(df,MML_VARIABLE_ANALYZED, REGION, years_filtered, np.arange(-20,21,5))"
   ]
  },
  {
   "cell_type": "code",
   "execution_count": null,
   "id": "b2425d1b-1a49-43fb-a5e7-c063bd227788",
   "metadata": {},
   "outputs": [],
   "source": [
    "common.save_porcentual_diff_to_excel_for_variable(df, MML_VARIABLE_ANALYZED)"
   ]
  }
 ],
 "metadata": {
  "kernelspec": {
   "display_name": "Python 3 (ipykernel)",
   "language": "python",
   "name": "python3"
  },
  "language_info": {
   "codemirror_mode": {
    "name": "ipython",
    "version": 3
   },
   "file_extension": ".py",
   "mimetype": "text/x-python",
   "name": "python",
   "nbconvert_exporter": "python",
   "pygments_lexer": "ipython3",
   "version": "3.8.10"
  }
 },
 "nbformat": 4,
 "nbformat_minor": 5
}
